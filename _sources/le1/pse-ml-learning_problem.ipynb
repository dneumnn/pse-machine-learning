{
 "cells": [
  {
   "cell_type": "markdown",
   "id": "8065d2cd",
   "metadata": {},
   "source": [
    "# Learning Problem"
   ]
  },
  {
   "cell_type": "markdown",
   "id": "f4b6bcd5",
   "metadata": {},
   "source": [
    "## Learning from Data\n",
    "\n",
    "**learning from Data** can be  seen as learning a function or a probability distribution. \n",
    "\n",
    "1. From a probabilistic point of view it is our goal to learn a joint probability distribution $P$ that explains our data. With the knowledge of $P$ it would be possible to predict based on observations made: \n",
    "\n",
    "$$P(y|x) = \\frac{P(x,y)}{P(x)} , P(x) \\neq 0 , x \\in X, y \\in Y$$\n",
    "\n",
    "2. On the other side the problem could be seen as a numeric optimization problem. Then we are searching for a function $f:X \\to Y$ with $f(x) = y$ that explains the data.  \n",
    "\n",
    "![Learning from Data](./learning-from-data.png)\n",
    "\n",
    "\n",
    "Both the probability distribution P and the function f are unknown. But there is a chance to learn $P$ or $f$ based on data.\n",
    "\n",
    "We will use both views in the rest of the lecture, but with strong focus on the numeric optimization. "
   ]
  },
  {
   "cell_type": "code",
   "execution_count": null,
   "id": "bdf0aa9e",
   "metadata": {},
   "outputs": [],
   "source": []
  },
  {
   "cell_type": "markdown",
   "id": "3b3a42cc",
   "metadata": {},
   "source": [
    "## Mathematical Formulation\n",
    "\n",
    "When we look at machine learning, our goal is to learn a pattern from **data**. The pattern explains our data. Data means that we have a collection of data points. Each data point consists of independent and dependent variables. We call them **features** and **labels**. Sometimes called input and output. \n",
    "\n",
    "Let X and Y be vector spaces. A data point $(x,y)$ is an element of the product space $X \\times Y$. \n",
    "\n",
    "Let $\\theta \\in R^n$ be a parameter. We are looking for a **hypothesis** that explains the data well. Our hypothesis is a parameterized function, that maps a feature vector from feature space $X$ onto a label vector in $Y$.\n",
    "\n",
    "$$h_{\\theta}: X \\rightarrow Y: x \\mapsto h_{\\theta}(x) = \\hat{y}$$\n",
    "\n",
    "The set of all hypothesis build the hypothesis space. We call that space our **model**. Finding a good model implies domain knowledge. \n",
    "\n",
    "Our goal is to learn $\\theta$ so, that for all data points $(x,y)$ the hypothesis $h_{\\theta}(x) = \\hat{y} \\thickapprox y$ fits well. \n",
    "\n",
    "**Learning** is the process of finding a good hypothesis inside the hypothesis space.\n",
    "\n",
    "To be able to evaluate our learning success we need a **loss** function $𝐿(𝑦,ℎ_{𝜃}(𝑥))$ that measures the  error for each data point.\n",
    "\n",
    "Lets have a look at some typical loss functions:"
   ]
  },
  {
   "cell_type": "code",
   "execution_count": 27,
   "id": "d98f2349",
   "metadata": {},
   "outputs": [
    {
     "data": {
      "image/png": "[encoded data removed]",
      "text/plain": [
       "<Figure size 640x480 with 1 Axes>"
      ]
     },
     "metadata": {},
     "output_type": "display_data"
    }
   ],
   "source": [
    "import matplotlib.pyplot as plt\n",
    "import numpy as np\n",
    "X = np.linspace(0,2*np.pi,100)\n",
    "y = np.sin(X)\n",
    "y_pred = np.copy(y) \n",
    "y_pred[::5] += 3 * (0.5 - np.random.rand(20))\n",
    "\n",
    "fig, ax = plt.subplots()\n",
    "ax.plot(X,y)\n",
    "ax.scatter(X,y_pred, s=20, c=\"red\")\n",
    "\n",
    "plt.show()"
   ]
  },
  {
   "cell_type": "code",
   "execution_count": 28,
   "id": "bc0bacb7",
   "metadata": {},
   "outputs": [],
   "source": [
    "def zero_one_loss(y, y_pred): \n",
    "    return np.where(y == y_pred,0,1) \n",
    "\n",
    "def l1_loss(y, y_pred):\n",
    "    return np.abs(y - y_pred)\n",
    "\n",
    "def l2_loss(y,y_pred):\n",
    "    return np.square(y-y_pred)"
   ]
  },
  {
   "cell_type": "code",
   "execution_count": 50,
   "id": "b9494736",
   "metadata": {},
   "outputs": [
    {
     "name": "stdout",
     "output_type": "stream",
     "text": [
      "20\n",
      "17.5080378961405\n",
      "17.675739920024025\n",
      "0.2\n",
      "0.175080378961405\n",
      "0.17675739920024025\n"
     ]
    }
   ],
   "source": [
    "print(zero_one_loss(y, y_pred).sum())\n",
    "print(l1_loss(y, y_pred).sum())\n",
    "print(l2_loss(y, y_pred).sum())\n",
    "\n",
    "print(zero_one_loss(y, y_pred).mean())\n",
    "print(l1_loss(y, y_pred).mean())\n",
    "print(l2_loss(y, y_pred).mean())"
   ]
  },
  {
   "cell_type": "markdown",
   "id": "0c2f3650",
   "metadata": {},
   "source": [
    "Now we have the tree basic ingredients of machine learning: **data**, **model**, **loss**"
   ]
  },
  {
   "cell_type": "markdown",
   "id": "ddaf9e24",
   "metadata": {},
   "source": [
    "## Empirical Risk Minimization\n",
    "\n",
    "Assume we know the joint probability distribution $P(X,Y)$ on $(X,Y)$. With this in mind the hypothesis $h$ could be seen as a random variable on $X \\rightarrow Y$, and also the loss function $𝐿(y,h)$ is a random variable. Now we can compute the **statistical risk** as the expected value of the loss:\n",
    "\n",
    "$$ R = \\int_{} L(y,h)dP $$\n",
    "\n",
    "**In reality we do not know P.** \n",
    "\n",
    "But if we have enough data points, we can approximate the statistical risk with the **empirical risk** acording to the law of large numbers:\n",
    "\n",
    "$$ER = \\frac{1}{m} \\sum_{i=1}^{m} L(y^{(i)},h_{\\theta}(x^{(i)}))$$\n",
    "\n",
    "This leads to a minimization problem:\n",
    "\n",
    "$$\\hat{h} = \\arg \\min_{\\theta} ER $$\n",
    "\n",
    "If $L$ is differentiable we can use **gradient descent** to find a local minimum."
   ]
  },
  {
   "cell_type": "code",
   "execution_count": null,
   "id": "a4b676c2",
   "metadata": {},
   "outputs": [],
   "source": []
  }
 ],
 "metadata": {
  "kernelspec": {
   "display_name": "Python 3 (ipykernel)",
   "language": "python",
   "name": "python3"
  },
  "language_info": {
   "codemirror_mode": {
    "name": "ipython",
    "version": 3
   },
   "file_extension": ".py",
   "mimetype": "text/x-python",
   "name": "python",
   "nbconvert_exporter": "python",
   "pygments_lexer": "ipython3",
   "version": "3.10.12"
  }
 },
 "nbformat": 4,
 "nbformat_minor": 5
}
