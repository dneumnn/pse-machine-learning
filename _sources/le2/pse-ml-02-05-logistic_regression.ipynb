{
 "cells": [
  {
   "cell_type": "markdown",
   "id": "709ce5bc",
   "metadata": {},
   "source": [
    "# Logistic Regression \n",
    "\n",
    "Assume we have data points with labels $y \\in \\{0,1\\}$ and want to do binary classification.\n",
    "\n",
    "Logistic regression is a statistical model that uses a logistic function to model a binary dependent variable. \n",
    "\n",
    "A geometric interpretation of Logistic Regression is, to find a line or hyperplane which best separates the two classes. Logistic Regression works with a dataset that is almost or perfectly linear separable."
   ]
  },
  {
   "cell_type": "markdown",
   "id": "45716190",
   "metadata": {},
   "source": [
    "## Idea: Find a Separating Hyperplanes\n",
    "\n",
    "Find a hyperplane that separates the data acording to our training data.\n",
    "\n",
    "Hyperplane:\n",
    "\n",
    "$$ w^T * x + b = 0$$\n",
    "\n",
    "\n",
    "$$ \\sum_{i=1}^{n} w_{i} * x_{i} + b_{i} = 0 $$\n",
    "\n",
    "If we have found a hyperplane separating our data, then we want to calculate the probabilty that a data point lays on one side of the plane. For that we use the sigmoid function. "
   ]
  },
  {
   "cell_type": "markdown",
   "id": "0c58b1b4",
   "metadata": {},
   "source": [
    "## Sigmoid Function\n",
    "\n",
    "The sigmoid function $g$ is defined as:\n",
    "\n",
    "$$ g(z) =  \\frac{1}{1 + \\exp (-z)}$$"
   ]
  },
  {
   "cell_type": "code",
   "execution_count": 331,
   "id": "f7a57b57",
   "metadata": {},
   "outputs": [
    {
     "data": {
      "image/png": "[encoded data removed]",
      "text/plain": [
       "<Figure size 640x480 with 1 Axes>"
      ]
     },
     "metadata": {},
     "output_type": "display_data"
    }
   ],
   "source": [
    "import numpy as np\n",
    "sigmoid=lambda z: 1 / (1 +  np.exp(-z))\n",
    "\n",
    "x = np.linspace(start=-8, stop=8, num=1000)\n",
    "\n",
    "import matplotlib.pyplot as plt\n",
    "fig, ax = plt.subplots()\n",
    "ax.plot(x, sigmoid(x))\n",
    "ax.set_xlabel(\"z\")\n",
    "ax.set_ylabel(\"g(z)\")\n",
    "plt.show()"
   ]
  },
  {
   "cell_type": "markdown",
   "id": "0375bf35",
   "metadata": {},
   "source": [
    "## Logistic Regression Model\n",
    "Given the hyperplane equation, the sigmoid function gives us the probability that a data point $x$ lays on one site of the hyperplane. If the hyperplane separates the data points well into two classes $\\{0,1\\}$, then we can use it as classifier und predict the class by:\n",
    "\n",
    "\n",
    "$$\\hat{y} = h_{w,b}(x) = g(w^T * x + b)$$\n",
    "\n",
    "Now we have a model. To learn the parameters w and b we need a loss function thta tells us how to adjust. Before we look at the loss function we reformulate the problem to get rid of parameter b."
   ]
  },
  {
   "cell_type": "markdown",
   "id": "2f1bbc32",
   "metadata": {},
   "source": [
    "## Reformulation\n",
    "\n",
    "Reformultate the hyperplane equation (notational trick): with $ x \\in R^{n+1}$, set $x_0 = 1$ and $\\theta_0 = b$.\n",
    "\n",
    "$$ \\theta^T * x = \\sum_{i=0}^{n} \\theta_{i} * x_{i} = 0$$\n",
    "\n",
    "Given data $x$, we want to learn a classifier $h_{\\theta}(x) \\in [0,1]$. And we have chosen the classifier or hypothesis function of the form:\n",
    "\n",
    "$$h_{\\theta}(x) = g(\\theta^T x) = \\frac{1}{1 + \\exp (-\\theta^T x)}$$\n",
    "\n",
    "Our Goal is to learn the parameter $\\theta$ (w and b) of the hyperplane. \n",
    "\n",
    "The sigmoid function $g$ maps each $z = \\theta^T x$ to a probability $g(z)$. \n",
    "\n",
    "If the point x lays on the hyperplane, than $\\theta^T x = 0$ than $ g(0) = \\frac{1}{1 + \\exp (-0)} = 0.5$. If $g(z) > 0.5$ the point is on the left and vice versa."
   ]
  },
  {
   "cell_type": "markdown",
   "id": "4bba96d4",
   "metadata": {},
   "source": [
    "## Binary Cross-Entropy Loss\n",
    "\n",
    "Given input data x, our classifier Function $h_{\\theta}$ gives us the probability that the label correct classified as 1: \n",
    "\n",
    "$$P(y=1|x;\\theta) = h_{\\theta}(x)$$\n",
    "\n",
    "or\n",
    "\n",
    "$$P(y|x;\\theta) = \\begin{cases}h_{\\theta}(x) & \\text{if y = 1 is true}\\\\ 1- h_{\\theta}(x) & \\text{if y = 0 is true}\\end{cases}$$\n",
    "\n",
    "\n",
    "By definition $y \\in \\{0,1\\}$. This leads to the (notational) compression trick:\n",
    "\n",
    "$$P(y|x;\\theta) = h_{\\theta}(x)^y * (1-h_{\\theta}(x))^{1-y} $$\n",
    "\n",
    "\n",
    "We are searching good parameters to maximize the above equation for all data points. \n",
    "\n",
    "By definition we assumed that the data points are iid. \n",
    "\n",
    "\n",
    "\n",
    "$$P(y^{(i)}, ...,y^{(n)}|x^{(i)},...,x^{(n)};\\theta) = \\prod_{i=1}^{m} P(y^{(i)}|x^{(i)};\\theta) $$\n",
    "\n",
    "Interpreting this as a function of $\\theta$ leads to the well-known Likelihood $L(\\theta)$:\n",
    "\n",
    "\\begin{align*} \n",
    "L(\\theta) &= \\prod_{i=1}^{m} P(y^{(i)}|x^{(i)};\\theta) \\\\\n",
    "          &= \\prod_{i=1}^{m} h_{\\theta}({x^{(i)}})^{y^{(i)}} * (1-h_{\\theta}({x^{(i)}})^{1-{y^{(i)}}} \n",
    "\\end{align*}\n",
    "\n",
    "So we want to maximize this function (Maximum-Likelihood Estimation). Then we use the log-trick (log is a monoton increasing function)\n",
    "\n",
    "and log Likelihood gives us:\n",
    "\n",
    "\\begin{align*} \n",
    "l(\\theta) &= \\log L(\\theta)  \\\\\n",
    "          &= \\log  \\prod_{i=1}^{m} h_{\\theta}({x^{(i)}})^{y^{(i)}} * (1-h_{\\theta}({x^{(i)}})^{1-{y^{(i)}}} \\\\\n",
    "          &= \\log  \\prod_{i=1}^{m} h_{\\theta}({x^{(i)}})^{y^{(i)}} + \\log  \\prod_{i=1}^{m} (1-h_{\\theta}({x^{(i)}})^{1-{y^{(i)}}} \\\\\n",
    "          &= \\sum_{i=1}^{m} \\log h_{\\theta}({x^{(i)}})^{y^{(i)}} + \\sum_{i=1}^{m} \\log (1-h_{\\theta}({x^{(i)}})^{1-{y^{(i)}}} \\\\\n",
    "          &= \\sum_{i=1}^{m} y^{(i)} * \\log h_{\\theta}({x^{(i)}}) + (1-{y^{(i)}}) * \\log (1-h_{\\theta}({x^{(i)}}))\n",
    "\\end{align*}\n",
    "\n",
    "Now we want to minimize the negative log Likelyhood and that gives us the Cross-Entropy Loss:\n",
    "\n",
    "\\begin{align*} \n",
    "J(\\theta) &= - \\sum_{i=1}^{m} y^{(i)} * \\log h_{\\theta}({x^{(i)}}) + (1-{y^{(i)}}) * \\log (1-h_{\\theta}({x^{(i)}})) \\\\\n",
    "          &= - \\sum_{i=1}^{m} y^{(i)} * \\log {\\hat{y}}^{(i)} + (1-{y^{(i)}}) * \\log (1-{\\hat{y}}^{(i)})\n",
    "\\end{align*}\n",
    "\n",
    "So we want to find the best value of $\\theta$ that minimizes $J(\\theta)$. For that we use **Gradient Descent**!"
   ]
  },
  {
   "cell_type": "markdown",
   "id": "7de70673",
   "metadata": {},
   "source": [
    "## Logistic Regression in Python\n",
    "Start with some toy data from: https://scikit-learn.org/stable/modules/generated/sklearn.datasets.make_classification.html"
   ]
  },
  {
   "cell_type": "code",
   "execution_count": 338,
   "id": "a4d46403",
   "metadata": {},
   "outputs": [],
   "source": [
    "from sklearn.datasets import make_classification\n",
    "\n",
    "X_data, y_data = make_classification(n_samples=100, n_features=2, n_redundant=0, n_informative=1, n_classes=2,\n",
    "                           n_clusters_per_class=1, flip_y=0.0,random_state=42)"
   ]
  },
  {
   "cell_type": "code",
   "execution_count": 333,
   "id": "9fa464ab",
   "metadata": {},
   "outputs": [
    {
     "data": {
      "image/png": "[encoded data removed]",
      "text/plain": [
       "<Figure size 640x480 with 1 Axes>"
      ]
     },
     "metadata": {},
     "output_type": "display_data"
    }
   ],
   "source": [
    "import matplotlib.pyplot as plt\n",
    "plt.scatter(X_data[:,0], X_data[:,1], c=y_data, s=10, cmap=\"RdYlBu\")\n",
    "plt.show()"
   ]
  },
  {
   "cell_type": "markdown",
   "id": "56d50340",
   "metadata": {},
   "source": [
    "The data seems to be linear separable. We split the data into train and test und use pytorch dataloader."
   ]
  },
  {
   "cell_type": "markdown",
   "id": "7ff3c210",
   "metadata": {},
   "source": [
    "## Exercise \n",
    "\n",
    "Implement Logistic Regression with numpy from scratch\n",
    "\n",
    "1. Split the data into test and train data\n",
    "2. Define Logistic Regression Model\n",
    "3. Define Binary Cross Entropy Loss and its Gradient\n",
    "4. Initialize weight at zero\n",
    "5. Train 20 Epochs using Gradient Descent\n",
    "6. Compute Accurance with your test data"
   ]
  },
  {
   "cell_type": "code",
   "execution_count": 375,
   "id": "5dd466ef",
   "metadata": {},
   "outputs": [],
   "source": [
    "################ implementation with numpy from scratch ##############\n",
    "#   data X, y   \n",
    "#           z   = X * w + b\n",
    "#  sigmoid(z)   = 1 / (1 + exp(-z))\n",
    "#\n",
    "#  y_pred       = 1 / (1 + exp(- (X * w + b) ))\n",
    "#\n",
    "#  J(w,b)       = - 1/N sum[y * log( y_pred ) + (1-y) * log (1 - y_pred) ]\n",
    "#                 - 1/N sum[y * log ( sigmoid(z) ) + (1-y) * log (1 - sigmoid(z) ]\n",
    "#\n",
    "#  dJ/dw        = 1/N sum( 2 X * (y_pred - y))\n",
    "#  dJ/db        = 1/N sum( 2 (y_pred - y))\n",
    "#\n",
    "######################################################################\n",
    "\n",
    "import numpy as np\n",
    "\n",
    "def sigmoid(z):\n",
    "    result = None          # insert activation formula here\n",
    "    return result\n",
    "\n",
    "class LogisticRegression():\n",
    "    \n",
    "    def __init__(self, params): # which parameters do we need?\n",
    "        \n",
    "        self.params = params\n",
    "        self.weights = None\n",
    "        self.bias = None\n",
    "\n",
    "    def model(self, X):\n",
    "        return None\n",
    "        \n",
    "    def fit(self, X,y):\n",
    "        \n",
    "        m_samples, n_features = 0, 0 # how to get m_samples, n_features\n",
    "        # initialize weights and bias\n",
    "        \n",
    "        #iterate over epochs\n",
    "        z = self.model(X)\n",
    "        predictions = sigmoid(z)\n",
    "        \n",
    "        #compute the gradient\n",
    "        if m_samples != 0:\n",
    "            dw = (1/m_samples) * np.dot(X.T, predictions - y)\n",
    "            db = (1/m_samples) * np.sum(predictions - y)\n",
    "            \n",
    "        #adjust the weights and bias\n",
    "        self.weights = None\n",
    "        self.bias    = None\n",
    "    \n",
    "    def predict(self, X):\n",
    "        z = self.model(X)\n",
    "        y_pred = sigmoid(z)\n",
    "        result = None\n",
    "        if y_pred:\n",
    "            result = [0 if y < 0.5 else 1 for y in y_pred]\n",
    "        return result"
   ]
  },
  {
   "cell_type": "code",
   "execution_count": 376,
   "id": "0b4ef8bb",
   "metadata": {},
   "outputs": [
    {
     "name": "stdout",
     "output_type": "stream",
     "text": [
      "0.0\n"
     ]
    }
   ],
   "source": [
    "from sklearn.model_selection import train_test_split\n",
    "from sklearn import datasets\n",
    "\n",
    "bc = datasets.load_breast_cancer()\n",
    "X_data, y_data = bc.data, bc.target\n",
    "X_train, X_test, y_train, y_test = train_test_split(X_data, y_data, test_size=0.2, random_state=42)\n",
    "\n",
    "params = None\n",
    "\n",
    "LR = LogisticRegression(params=params) #set right param !\n",
    "LR.fit(X_train, y_train)\n",
    "\n",
    "y_pred = LR.predict(X_test)\n",
    "\n",
    "def accuracy(y_pred, y_test):\n",
    "    return np.sum(y_pred == y_test)/len(y_test)\n",
    "\n",
    "print(accuracy(y_pred, y_test))"
   ]
  },
  {
   "cell_type": "code",
   "execution_count": 377,
   "id": "b87b5f1d",
   "metadata": {},
   "outputs": [
    {
     "name": "stdout",
     "output_type": "stream",
     "text": [
      "0.9210526315789473\n"
     ]
    },
    {
     "name": "stderr",
     "output_type": "stream",
     "text": [
      "/var/folders/gb/kf8d65y549d33zybjv_4rww80000gn/T/ipykernel_24490/622119645.py:4: RuntimeWarning: overflow encountered in exp\n",
      "  return 1 / (1 + np.exp(-z))\n"
     ]
    }
   ],
   "source": [
    "########## Some Possible Solution ########\n",
    "import numpy as np\n",
    "def sigmoid(z):\n",
    "    return 1 / (1 + np.exp(-z))\n",
    "\n",
    "class LogisticRegression():\n",
    "    \n",
    "    def __init__(self, lr=0.001, n_iter=1000):\n",
    "        self.lr = lr\n",
    "        self.n_iter = n_iter\n",
    "        self.weights = None\n",
    "        self.bias = None\n",
    "        \n",
    "    def fit(self, X, y):\n",
    "        m_samples, n_features = X.shape\n",
    "        self.weights = np.zeros(n_features)\n",
    "        self.bias = 0\n",
    "        \n",
    "        for _ in range(self.n_iter):\n",
    "            z = np.dot(X, self.weights) + self.bias\n",
    "            predictions = sigmoid(z)\n",
    "            \n",
    "            \n",
    "            dw = (1/m_samples) * np.dot(X.T, predictions - y)\n",
    "            db = (1/m_samples) * np.sum(predictions - y)\n",
    "            \n",
    "            self.weights = self.weights - dw * self.lr\n",
    "            self.bias    = self.bias - db * self.lr\n",
    "            \n",
    "            \n",
    "    def predict(self, X):\n",
    "        z = np.dot(X, self.weights) + self.bias\n",
    "        y_pred = sigmoid(z)\n",
    "        return [0 if y < 0.5 else 1 for y in y_pred]\n",
    "        \n",
    "from sklearn.model_selection import train_test_split\n",
    "from sklearn import datasets\n",
    "\n",
    "bc = datasets.load_breast_cancer()\n",
    "X, y = bc.data, bc.target\n",
    "X_train, X_test, y_train, y_test = train_test_split(X, y, test_size=0.2, random_state=1234)\n",
    "\n",
    "\n",
    "LR = LogisticRegression(lr=0.01)\n",
    "LR.fit(X_train, y_train)\n",
    "\n",
    "y_pred = LR.predict(X_test)\n",
    "\n",
    "def accuracy(y_pred, y_test):\n",
    "    return np.sum(y_pred == y_test)/len(y_test)\n",
    "\n",
    "print(accuracy(y_pred, y_test))"
   ]
  },
  {
   "cell_type": "markdown",
   "id": "d675556a",
   "metadata": {},
   "source": [
    "## Logistic Regression with Pytorch"
   ]
  },
  {
   "cell_type": "code",
   "execution_count": 387,
   "id": "1fad7d0f",
   "metadata": {},
   "outputs": [],
   "source": [
    "############################# with pytorch and own loss, model implementation \n",
    "def sigmoid(z):\n",
    "    return 1 / (1 +  torch.exp(-z))\n",
    "    \n",
    "class LogisticRegression():\n",
    "    \n",
    "    def __init__(self):\n",
    "        self.w = None\n",
    "        self.b = None\n",
    "\n",
    "    #### Define Logistic Regression Model\n",
    "    def model(self, X):\n",
    "        z = torch.matmul(X, self.w) + self.b\n",
    "        return sigmoid(z)\n",
    "\n",
    "    #### Define Cross-Entropy Loss\n",
    "    def cross_entropy_loss(self, y_hat, y):\n",
    "        y_hat = torch.clip(y_hat, 1e-5, 1 - 1e-5)\n",
    "        l1 = torch.mul(y, torch.log(y_hat + 1e-5))\n",
    "        l2 = torch.mul((1 - y), torch.log(1 - y_hat + 1e-5))\n",
    "        loss = torch.mean(l1+l2, axis=0)\n",
    "        return (-1) * loss   \n",
    "\n",
    "    def train(self, train_dataloader, lr = 0.01, epochs = 100):\n",
    "                \n",
    "        m_batch_size = train_dataloader.batch_size\n",
    "        n_features = train_dataloader.dataset.tensors[0].shape[1]\n",
    "        \n",
    "        self.w = torch.zeros(n_features, requires_grad=True, dtype=torch.float32)\n",
    "        self.b = torch.zeros(1, requires_grad=True, dtype=torch.float32)\n",
    "        \n",
    "        for epoch in range(epochs):\n",
    "            for X,y in train_dataloader:\n",
    "                y_hat = self.model(X)\n",
    "                loss = self.cross_entropy_loss(y_hat, y)\n",
    "                \n",
    "                loss.backward()\n",
    "                with torch.no_grad():\n",
    "                    self.w -= self.w.grad * lr\n",
    "                    self.b -= self.b.grad * lr\n",
    "                    self.w.grad.zero_()\n",
    "                    self.b.grad.zero_()\n",
    "            \n",
    "            if epoch % 10 == 0:\n",
    "                print(f\"Epoch: {epoch} loss {loss}\")\n",
    "\n",
    "                \n",
    "    def predict(self, X):\n",
    "        with torch.no_grad():\n",
    "            y_hat = self.model(X)\n",
    "        return [0 if y < 0.5 else 1 for y in y_hat.numpy()]"
   ]
  },
  {
   "cell_type": "code",
   "execution_count": 388,
   "id": "da54bfe7",
   "metadata": {},
   "outputs": [],
   "source": [
    "###### get Testdata from sklearn\n",
    "from sklearn import datasets\n",
    "#bc = datasets.load_breast_cancer()\n",
    "#X_data, y_data = bc.data, bc.target\n",
    "\n",
    "from sklearn.datasets import make_classification\n",
    "X_data, y_data = make_classification(n_samples=100, n_features=2, n_redundant=0, n_informative=1, n_classes=2,\n",
    "                           n_clusters_per_class=1, flip_y=0.0,random_state=42)\n",
    "\n",
    "\n",
    "from sklearn.model_selection import train_test_split\n",
    "X_train, X_test, y_train, y_test = train_test_split(X_data, y_data, test_size=0.2, random_state=1234)\n",
    "\n",
    "\n",
    "from sklearn.preprocessing import StandardScaler\n",
    "sc = StandardScaler()\n",
    "X_train = sc.fit_transform(X_train)\n",
    "X_test = sc.transform(X_test)"
   ]
  },
  {
   "cell_type": "code",
   "execution_count": 389,
   "id": "278cd171",
   "metadata": {},
   "outputs": [],
   "source": [
    "import torch\n",
    "X_train = torch.tensor(X_train, dtype=torch.float32)\n",
    "y_train = torch.tensor(y_train, dtype=torch.float32)\n",
    "X_test  = torch.tensor(X_test, dtype=torch.float32)\n",
    "y_test  = torch.tensor(y_test, dtype=torch.float32)"
   ]
  },
  {
   "cell_type": "code",
   "execution_count": 390,
   "id": "c8187340",
   "metadata": {},
   "outputs": [
    {
     "name": "stdout",
     "output_type": "stream",
     "text": [
      "Epoch: 0 loss 0.6866399049758911\n",
      "Epoch: 10 loss 0.6028708219528198\n",
      "Epoch: 20 loss 0.533920407295227\n",
      "Epoch: 30 loss 0.4768409729003906\n",
      "Epoch: 40 loss 0.42922940850257874\n",
      "Epoch: 50 loss 0.389180064201355\n",
      "Epoch: 60 loss 0.35520052909851074\n",
      "Epoch: 70 loss 0.3261265158653259\n",
      "Epoch: 80 loss 0.3010483384132385\n",
      "Epoch: 90 loss 0.27925175428390503\n",
      "1.0\n",
      "[1.233158   0.06141704] [0.07351342]\n"
     ]
    }
   ],
   "source": [
    "#### Use torch DataLoader\n",
    "#torch.manual_seed(42)\n",
    "from torch.utils.data import TensorDataset, DataLoader\n",
    "\n",
    "train_dataset = TensorDataset(X_train, y_train)\n",
    "train_dataloader = DataLoader(train_dataset, batch_size=20, shuffle=False)\n",
    "\n",
    "test_dataset = TensorDataset(X_test, y_test)\n",
    "test_dataloader = DataLoader(test_dataset, batch_size=10, shuffle=False)\n",
    "\n",
    "\n",
    "LR = LogisticRegression()\n",
    "\n",
    "LR.train(train_dataloader)\n",
    "\n",
    "def accuracy(y_p, y_t):\n",
    "    return np.sum(y_p == y_t)/len(y_t)\n",
    "\n",
    "y_p = []\n",
    "y_t = []\n",
    "\n",
    "for X, y in test_dataloader:\n",
    "    y_p.extend(LR.predict(X))\n",
    "    y_t.extend([int(_y) for _y in y.numpy()]) \n",
    "\n",
    "print(accuracy(np.array(y_p), np.array(y_t)))\n",
    "\n",
    "w = LR.w.detach().numpy()\n",
    "b = LR.b.detach().numpy()\n",
    "print(w, b)"
   ]
  },
  {
   "cell_type": "markdown",
   "id": "771467fb",
   "metadata": {},
   "source": [
    "# Logistic Regression with much more PyTorch"
   ]
  },
  {
   "cell_type": "code",
   "execution_count": 382,
   "id": "d6247403",
   "metadata": {},
   "outputs": [
    {
     "name": "stdout",
     "output_type": "stream",
     "text": [
      "torch.Size([455, 30]) torch.Size([455, 1])\n",
      "LogisticRegression(\n",
      "  (linear): Linear(in_features=30, out_features=1, bias=True)\n",
      ")\n",
      "1 loss=0.644176721572876\n",
      "11 loss=0.5242033004760742\n",
      "21 loss=0.44827306270599365\n",
      "31 loss=0.39615970849990845\n",
      "41 loss=0.3581218123435974\n",
      "51 loss=0.32902368903160095\n",
      "61 loss=0.30593985319137573\n",
      "71 loss=0.2870946526527405\n",
      "81 loss=0.2713525593280792\n",
      "91 loss=0.2579549252986908\n",
      "101 loss=0.24637599289417267\n",
      "111 loss=0.2362397462129593\n",
      "121 loss=0.22727011144161224\n",
      "131 loss=0.21925945580005646\n",
      "141 loss=0.2120484858751297\n",
      "151 loss=0.20551277697086334\n",
      "161 loss=0.19955365359783173\n",
      "171 loss=0.19409167766571045\n",
      "181 loss=0.18906210362911224\n",
      "191 loss=0.18441152572631836\n",
      "acc tensor(0.9123)\n"
     ]
    }
   ],
   "source": [
    "###################### implemenetation with pytorch #####################\n",
    "import torch\n",
    "import torch.nn as nn\n",
    "import numpy as np\n",
    "\n",
    "####### load and prepare data #######\n",
    "from sklearn.model_selection import train_test_split\n",
    "from sklearn import datasets\n",
    "\n",
    "bc = datasets.load_breast_cancer()\n",
    "X, y = bc.data, bc.target\n",
    "\n",
    "n_samples, n_features = X.shape\n",
    "\n",
    "X_train, X_test, y_train, y_test = train_test_split(X, y, test_size=0.2, random_state=1234)\n",
    "\n",
    "from sklearn.preprocessing import StandardScaler\n",
    "sc = StandardScaler()\n",
    "X_train = sc.fit_transform(X_train)\n",
    "X_test = sc.transform(X_test)\n",
    "\n",
    "X_train = torch.from_numpy(X_train.astype(np.float32))\n",
    "y_train = torch.tensor(y_train.astype(np.float32))\n",
    "X_test  = torch.tensor(X_test.astype(np.float32))\n",
    "y_test  = torch.tensor(y_test.astype(np.float32))\n",
    "\n",
    "y_train = y_train.view(y_train.shape[0],1)\n",
    "y_test = y_test.view(y_test.shape[0],1)\n",
    "\n",
    "print(X_train.shape, y_train.shape)\n",
    "\n",
    "###### model\n",
    "class LogisticRegression(nn.Module):\n",
    "    \n",
    "    def __init__(self, n_input_features):\n",
    "        super(LogisticRegression, self).__init__()\n",
    "        self.linear = nn.Linear(n_input_features, 1) # one output dim\n",
    "\n",
    "    def forward(self, x):\n",
    "        y_predicted = torch.sigmoid(self.linear(x))\n",
    "        return y_predicted\n",
    "    \n",
    "\n",
    "model = LogisticRegression(n_features)\n",
    "print(model)\n",
    "\n",
    "\n",
    "########### loss and optimizer \n",
    "\n",
    "criterion = nn.BCELoss()\n",
    "optimizer = torch.optim.SGD(model.parameters(), lr=0.01)\n",
    "\n",
    "epochs = 200\n",
    "\n",
    "for epoch in range(epochs):\n",
    "    \n",
    "    #forward path\n",
    "    y_pred = model(X_train)\n",
    "    loss = criterion(y_pred, y_train)\n",
    "    \n",
    "    #backward path\n",
    "    loss.backward()\n",
    "    \n",
    "    #update\n",
    "    optimizer.step()\n",
    "    \n",
    "    #zero gradients\n",
    "    optimizer.zero_grad()\n",
    "    \n",
    "    \n",
    "    if epoch % 10 == 0:\n",
    "        print(f\"{epoch+1} loss={loss.item()}\")\n",
    "\n",
    "########### evaluation\n",
    "with torch.no_grad():\n",
    "    y_pred = model(X_test)\n",
    "    y_pred_classes = y_pred.round()\n",
    "    \n",
    "    acc = y_pred_classes.eq(y_test).sum() / float(y_test.shape[0])\n",
    "    print(\"acc\", acc)\n",
    "    "
   ]
  },
  {
   "cell_type": "markdown",
   "id": "5c382153",
   "metadata": {},
   "source": [
    "# Visualize your result"
   ]
  },
  {
   "cell_type": "code",
   "execution_count": 391,
   "id": "3280affb",
   "metadata": {},
   "outputs": [],
   "source": [
    "import matplotlib.pyplot as plt\n",
    "def print_2d_result(X_data, y_data, w, b):\n",
    "    \n",
    "    x, y = X_data.shape\n",
    "    if y != 2:\n",
    "        print(f\"data have not dim 2, instead {y}. Please transform your data to 2 dim.\")\n",
    "    else:\n",
    "    \n",
    "        fig, ax =plt.subplots()\n",
    "        ax.scatter(X_data[:,0], X_data[:,1], c=y_data, s=4, marker=\"o\")\n",
    "\n",
    "        # construct separating line\n",
    "        x_0_1 = np.amin(X_data[:,0])\n",
    "        x_0_2 = np.amax(X_data[:,0])\n",
    "\n",
    "        x_1_1 = (-w[0] * x_0_1 - b) / w[1]\n",
    "        x_1_2 = (-w[0] * x_0_2 - b) / w[1]\n",
    "\n",
    "        ax.plot([x_0_1, x_0_2], [x_1_1, x_1_2], 'k')\n",
    "\n",
    "        y_min = np.amin(X_data[:,1])\n",
    "        y_max = np.amax(X_data[:,1])\n",
    "        ax.set_ylim(y_min-3, y_max+3)\n",
    "\n",
    "        plt.show()"
   ]
  },
  {
   "cell_type": "code",
   "execution_count": 392,
   "id": "5863f227",
   "metadata": {},
   "outputs": [
    {
     "data": {
      "image/png": "[encoded data removed]",
      "text/plain": [
       "<Figure size 640x480 with 1 Axes>"
      ]
     },
     "metadata": {},
     "output_type": "display_data"
    }
   ],
   "source": [
    "print_2d_result(X_data, y_data, w, b)"
   ]
  },
  {
   "cell_type": "code",
   "execution_count": null,
   "id": "88dfb587",
   "metadata": {},
   "outputs": [],
   "source": []
  }
 ],
 "metadata": {
  "kernelspec": {
   "display_name": "Python 3 (ipykernel)",
   "language": "python",
   "name": "python3"
  },
  "language_info": {
   "codemirror_mode": {
    "name": "ipython",
    "version": 3
   },
   "file_extension": ".py",
   "mimetype": "text/x-python",
   "name": "python",
   "nbconvert_exporter": "python",
   "pygments_lexer": "ipython3",
   "version": "3.10.12"
  }
 },
 "nbformat": 4,
 "nbformat_minor": 5
}
