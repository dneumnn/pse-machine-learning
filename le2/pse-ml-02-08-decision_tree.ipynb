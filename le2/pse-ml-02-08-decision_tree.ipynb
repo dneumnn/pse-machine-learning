{
 "cells": [
  {
   "cell_type": "markdown",
   "id": "9897e040",
   "metadata": {},
   "source": [
    "# Non Linear Regression"
   ]
  },
  {
   "cell_type": "markdown",
   "id": "183a80db",
   "metadata": {},
   "source": [
    "## Decision Tree\n",
    "\n",
    "A decision tree is a predictor h: X --> Y, that predicts the label y associated with an observation x by travelling from root node of a tree to a leaf. At each node on the root-to-leaf path, the successor child is chosen by a \"best split\". \n",
    "\n",
    "A best split of the parent node chooses the best feature to split and the best threshold the input space could be splitted with respect to the best feature. To compute the best split, we iterate over all features and all feature values. For each combination of feature and feature value the information gain that could be achieved by the split is computed.\n",
    "\n",
    "For classification normaly Entropy or Gini Incdex is used. For Regression Variance or Standard Deviation ist uses as splitting rule."
   ]
  },
  {
   "cell_type": "markdown",
   "id": "e991f663",
   "metadata": {},
   "source": [
    "Variance:\n",
    "\n",
    "The variance is the average of the squared differences from the mean. \n",
    "To figure out the variance, first calculate the difference between each point and the mean; \n",
    "then, square and average the results.\n",
    "\n",
    "Standard Deviation:\n",
    "\n",
    "Standard deviation is a statistic that looks at how far from the mean a group of numbers is, by using the square root of the variance. The calculation of variance uses squares because it weights outliers more heavily than data very near the mean. This calculation also prevents differences above the mean from canceling out those below, \n",
    "which can sometimes result in a variance of zero."
   ]
  },
  {
   "cell_type": "code",
   "execution_count": 1,
   "id": "92ffa591",
   "metadata": {},
   "outputs": [],
   "source": [
    "###### some preliminary things\n",
    "\n",
    "# entropy is a measure of disorder\n",
    "# \n",
    "# Entropy H = - SUM_(p(Y) * ln(p(Y)))   \n",
    "#\n",
    "#          #y\n",
    "# p(X) = ----- (Häufigkeit), n number of classes oder target values\n",
    "#          n\n",
    "#\n",
    "# information gain is defined as \n",
    "#\n",
    "# IG: = Entropy(parent) - [weighted_average] Entropy(children)\n",
    "#\n",
    "# If parent entropy is higher then weighted sum of the child entropies than disorder is lesser after the split. \n",
    "# The input space was splitted into two more homogeneous regions with respect to the outcome (target values).\n",
    "#"
   ]
  },
  {
   "cell_type": "code",
   "execution_count": 2,
   "id": "e0ace5b2",
   "metadata": {},
   "outputs": [],
   "source": [
    "import numpy as np\n",
    "from collections import Counter"
   ]
  },
  {
   "cell_type": "code",
   "execution_count": 3,
   "id": "78266ad2",
   "metadata": {},
   "outputs": [],
   "source": [
    "class Node():\n",
    "    \"\"\"\n",
    "    a node constist of the following information:\n",
    "    \n",
    "    feature     - to which featrue the tree split (division) takes place\n",
    "    threshold   - value of the featre the split takes place \n",
    "    left        - left node we are pointing to\n",
    "    right       - right node we are pointing to\n",
    "    value       - the value of the node, if the node is a leaf node\n",
    "    \n",
    "    \n",
    "                             node\n",
    "                             \n",
    "                leftNode              rightNode\n",
    "     \n",
    "    \n",
    "    \"\"\"\n",
    "    def __init__(self, feature=None, threshold=None, \n",
    "                 left=None, right=None, measure=None, *, value=None): # * have to pass value by name, value will only passed to leaf nodes\n",
    "        self.feature = feature\n",
    "        self.threshold = threshold\n",
    "        self.left = left\n",
    "        self.right = right\n",
    "        self.measure = measure\n",
    "        self.value = value\n",
    "        \n",
    "    def is_leaf_node(self):\n",
    "        return self.value is not None\n",
    "    \n",
    "    def __str__(self):\n",
    "        return f\"({self.feature=},{self.threshold=}, {self.left=}, {self.right=}, {self.measure=}, {self.value=})\" "
   ]
  },
  {
   "cell_type": "markdown",
   "id": "e2a758fa",
   "metadata": {},
   "source": [
    "# Classification with Decision Tree"
   ]
  },
  {
   "cell_type": "code",
   "execution_count": 29,
   "id": "7ee0df23",
   "metadata": {},
   "outputs": [],
   "source": [
    "class ClassificationDecisionTree():\n",
    "    \n",
    "    \n",
    "    def __init__(self, min_samples_split=2, max_depth=100):\n",
    "        self.min_samples_split=min_samples_split\n",
    "        self.max_depth=max_depth\n",
    "        self.root=None\n",
    "        \n",
    "        \n",
    "    def fit(self, X, y):\n",
    "        \"\"\"learn the tree\"\"\" \n",
    "        self.root = self._grow_tree(X, y)\n",
    "    \n",
    "    \n",
    "    def _grow_tree(self, X, y, depth=0):\n",
    "        \"\"\"this function builds the tree.\"\"\"\n",
    "        n_samples, n_features = X.shape\n",
    "        n_labels = len(np.unique(y))\n",
    "        \n",
    "        #check stopping criteria\n",
    "        if (depth >= self.max_depth or n_labels == 1 or n_samples < self.min_samples_split):\n",
    "            leaf_value = self._calculate_leaf_value(y)\n",
    "            return Node(value=leaf_value)\n",
    "        \n",
    "        feature_idxs = np.random.choice(n_features, n_features, replace=False)\n",
    "        \n",
    "        #find best split\n",
    "        best_feature, best_threshold = self._best_split(X, y, feature_idxs)\n",
    "        \n",
    "        #create child nodes\n",
    "        left_idxs, right_idxs = self._split(X[:,best_feature], best_threshold)\n",
    "        left = self._grow_tree(X[left_idxs,:], y[left_idxs], depth+1)\n",
    "        right = self._grow_tree(X[right_idxs,:], y[right_idxs], depth+1)\n",
    "        \n",
    "        if best_threshold is None:\n",
    "            print(best_feature, best_threshold)            \n",
    "\n",
    "        measure = self._entropy(y)\n",
    "        \n",
    "        new_node = Node(best_feature, best_threshold, left, right, measure)\n",
    "        \n",
    "                    \n",
    "        if left is None or right is None:\n",
    "            print(new_node)\n",
    "            \n",
    "        return new_node\n",
    "    \n",
    "        \n",
    "    \n",
    "    def _best_split(self, X, y, feature_idxs):\n",
    "        best_gain = -float(\"inf\")\n",
    "        split_idx, split_threshold = None, None\n",
    "        \n",
    "        for feature_idx in feature_idxs:\n",
    "            X_column = X[:, feature_idx]\n",
    "            thresholds = np.unique(X_column)\n",
    "            for threshold in thresholds:\n",
    "                # calculate the information gain\n",
    "                gain = self._information_gain(y, X_column, threshold)\n",
    "                \n",
    "                if gain > best_gain:\n",
    "                    best_gain = gain\n",
    "                    split_idx = feature_idx\n",
    "                    split_threshold = threshold\n",
    "                    \n",
    "        return split_idx, split_threshold\n",
    "        \n",
    "    \n",
    "    def _information_gain(self, y, X_column, threshold):\n",
    "        # create children\n",
    "        left_idxs, right_idxs = self._split(X_column, threshold)\n",
    "\n",
    "        if (len(left_idxs) == 0 or len(right_idxs) == 0):\n",
    "            return 0\n",
    "        \n",
    "        n = len(y)\n",
    "        n_l, n_r = len(left_idxs), len(right_idxs)\n",
    "               \n",
    "        # parent entropy\n",
    "        parent_entropy = self._entropy(y)\n",
    "\n",
    "        #calculate the weighted average entropy of the children\n",
    "        e_l, e_r = self._entropy(y[left_idxs]), self._entropy(y[right_idxs])\n",
    "\n",
    "        return parent_entropy - (n_l/n * e_l + n_r/n * e_r)\n",
    "        \n",
    "        \n",
    "    def _entropy(self, y):\n",
    "        histogram = np.bincount(y)\n",
    "        ps = histogram / len(y)\n",
    "        return - sum(p * np.log(p) for p in ps if p > 0)\n",
    "        \n",
    "    def _split(self, X_column, threshold):\n",
    "        left_idxs = np.argwhere(X_column <= threshold).flatten()\n",
    "        right_idxs = np.argwhere(X_column > threshold).flatten()\n",
    "        return left_idxs, right_idxs\n",
    "        \n",
    "    def _calculate_leaf_value(self, y):\n",
    "        return self._most_common_label(y)\n",
    "\n",
    "    def _most_common_label(self, y):\n",
    "        counter = Counter(y)\n",
    "        value = counter.most_common(1)[0][0]\n",
    "        return value\n",
    "            \n",
    "    def predict(self, X):\n",
    "        return np.array([self._traverse(x, self.root) for x in X])\n",
    "    \n",
    "    def _traverse(self, x, node):\n",
    "        if node.is_leaf_node():\n",
    "            return node.value\n",
    "        \n",
    "        if node.threshold is None:\n",
    "            print(node)\n",
    "        \n",
    "        if x[node.feature] <= node.threshold:\n",
    "            return self._traverse(x, node.left)\n",
    "        else:\n",
    "            return self._traverse(x, node.right)\n"
   ]
  },
  {
   "cell_type": "code",
   "execution_count": 30,
   "id": "ae437353",
   "metadata": {},
   "outputs": [
    {
     "name": "stdout",
     "output_type": "stream",
     "text": [
      "(569, 30)\n"
     ]
    }
   ],
   "source": [
    "from sklearn import datasets\n",
    "from sklearn.model_selection import train_test_split\n",
    "\n",
    "data = datasets.load_breast_cancer()\n",
    "X, y= data.data, data.target\n",
    "\n",
    "print(X.shape)\n",
    "\n",
    "X_train, X_test, y_train, y_test = train_test_split(X, y, test_size=0.2, random_state=42)"
   ]
  },
  {
   "cell_type": "code",
   "execution_count": 31,
   "id": "0e9032ba",
   "metadata": {},
   "outputs": [
    {
     "name": "stdout",
     "output_type": "stream",
     "text": [
      "0.9385964912280702\n"
     ]
    }
   ],
   "source": [
    "dt = ClassificationDecisionTree() #min_samples_split=20, max_depth=25, n_features=X.shape[0])\n",
    "dt.fit(X_train, y_train)\n",
    "\n",
    "#print(\"Root\",dt.root)\n",
    "\n",
    "predictions = dt.predict(X_test)\n",
    "\n",
    "def accuracy(y_test, y_pred):\n",
    "    return np.sum(y_test == y_pred) / len(y_test)\n",
    "\n",
    "acc = accuracy(y_test, predictions)\n",
    "\n",
    "print(acc)"
   ]
  },
  {
   "cell_type": "markdown",
   "id": "38f828e3",
   "metadata": {},
   "source": [
    "# Regression with Decision Tree"
   ]
  },
  {
   "cell_type": "code",
   "execution_count": 32,
   "id": "9bd06ca7",
   "metadata": {},
   "outputs": [],
   "source": [
    "class RegressionDecisionTree():\n",
    "\n",
    "    \n",
    "    def __init__(self, min_samples_split=2, max_depth=100):\n",
    "        self.min_samples_split=min_samples_split\n",
    "        self.max_depth=max_depth\n",
    "        self.root=None\n",
    "        \n",
    "        \n",
    "    def fit(self, X, y):\n",
    "        \"\"\"learn the tree\"\"\"  \n",
    "        self.root = self._grow_tree(X, y)\n",
    "    \n",
    "    \n",
    "    def _grow_tree(self, X, y, depth=0):\n",
    "        \"\"\"this function builds the tree.\"\"\"\n",
    "        n_samples, n_features = X.shape\n",
    "        n_labels = len(np.unique(y))\n",
    "        \n",
    "        #check stopping criteria\n",
    "        if (depth >= self.max_depth or n_labels == 1 or n_samples < self.min_samples_split):\n",
    "            leaf_value = self._calculate_leaf_value(y)\n",
    "            return Node(value=leaf_value)\n",
    "        \n",
    "        feature_idxs = np.random.choice(n_features, n_features, replace=False)\n",
    "        \n",
    "        #find best split\n",
    "        best_feature, best_threshold = self._best_split(X, y, feature_idxs)\n",
    "        \n",
    "        #create child nodes\n",
    "        left_idxs, right_idxs = self._split(X[:,best_feature], best_threshold)\n",
    "        left = self._grow_tree(X[left_idxs,:], y[left_idxs], depth+1)\n",
    "        right = self._grow_tree(X[right_idxs,:], y[right_idxs], depth+1)\n",
    "        \n",
    "        if best_threshold is None:\n",
    "            print(best_feature, best_threshold)            \n",
    "\n",
    "        measure = self._variance(y)\n",
    "        \n",
    "        new_node = Node(best_feature, best_threshold, left, right, measure)\n",
    "        \n",
    "                    \n",
    "        if left is None or right is None:\n",
    "            print(new_node)\n",
    "            \n",
    "        return new_node\n",
    "    \n",
    "        \n",
    "    \n",
    "    def _best_split(self, X, y, feature_idxs):\n",
    "        best_gain = -float(\"inf\")\n",
    "        split_idx, split_threshold = None, None\n",
    "        \n",
    "        for feature_idx in feature_idxs:\n",
    "            X_column = X[:, feature_idx]\n",
    "            thresholds = np.unique(X_column)\n",
    "            for threshold in thresholds:\n",
    "                # calculate the information gain\n",
    "                gain = self._information_gain(y, X_column, threshold)\n",
    "                \n",
    "                if gain > best_gain:\n",
    "                    best_gain = gain\n",
    "                    split_idx = feature_idx\n",
    "                    split_threshold = threshold\n",
    "                    \n",
    "        return split_idx, split_threshold\n",
    "        \n",
    "    \n",
    "    def _information_gain(self, y, X_column, threshold):\n",
    "        # create children\n",
    "        left_idxs, right_idxs = self._split(X_column, threshold)\n",
    "\n",
    "        if (len(left_idxs) == 0 or len(right_idxs) == 0):\n",
    "            return 0\n",
    "        \n",
    "        n = len(y)\n",
    "        n_l, n_r = len(left_idxs), len(right_idxs)\n",
    "                \n",
    "        parent_variance = self._variance(y)\n",
    "\n",
    "        #calculate the weighted average entropy of the children\n",
    "        var_l, var_r = self._variance(y[left_idxs]), self._variance(y[right_idxs])\n",
    "\n",
    "        return parent_variance - (n_l/n * var_l + n_r/n * var_r)\n",
    "        \n",
    "    def _variance(self, y):\n",
    "        return np.var(y)\n",
    "    \n",
    "    def _split(self, X_column, threshold):\n",
    "        left_idxs = np.argwhere(X_column <= threshold).flatten()\n",
    "        right_idxs = np.argwhere(X_column > threshold).flatten()\n",
    "        return left_idxs, right_idxs\n",
    "        \n",
    "    def _calculate_leaf_value(self, y):\n",
    "        return np.mean(y)\n",
    "           \n",
    "    \n",
    "    def _most_common_label(self, y):\n",
    "        counter = Counter(y)\n",
    "        value = counter.most_common(1)[0][0]\n",
    "        return value\n",
    "        \n",
    "    \n",
    "    def predict(self, X):\n",
    "        return np.array([self._traverse(x, self.root) for x in X])\n",
    "    \n",
    "    def _traverse(self, x, node):\n",
    "        if node.is_leaf_node():\n",
    "            return node.value\n",
    "        \n",
    "        if node.threshold is None:\n",
    "            print(node)\n",
    "        \n",
    "        if x[node.feature] <= node.threshold:\n",
    "            return self._traverse(x, node.left)\n",
    "        else:\n",
    "            return self._traverse(x, node.right)        "
   ]
  },
  {
   "cell_type": "code",
   "execution_count": 33,
   "id": "09d2a894",
   "metadata": {},
   "outputs": [
    {
     "name": "stdout",
     "output_type": "stream",
     "text": [
      "(20640, 8)\n"
     ]
    }
   ],
   "source": [
    "from sklearn import datasets\n",
    "from sklearn.model_selection import train_test_split\n",
    "\n",
    "data = datasets.fetch_california_housing(data_home=None, download_if_missing=True, \n",
    "                                         return_X_y=False, as_frame=False)\n",
    "\n",
    "X, y= data.data, data.target\n",
    "\n",
    "print(X.shape)\n",
    "\n",
    "X_train, X_test, y_train, y_test = train_test_split(X, y, test_size=0.2, random_state=42)"
   ]
  },
  {
   "cell_type": "code",
   "execution_count": 34,
   "id": "6360be24",
   "metadata": {},
   "outputs": [
    {
     "name": "stdout",
     "output_type": "stream",
     "text": [
      "<__main__.RegressionDecisionTree object at 0x178a18730>\n"
     ]
    }
   ],
   "source": [
    "dt = RegressionDecisionTree(max_depth=2)\n",
    "\n",
    "dt.fit(X_train, y_train)"
   ]
  },
  {
   "cell_type": "code",
   "execution_count": 36,
   "id": "00eff43f",
   "metadata": {},
   "outputs": [
    {
     "name": "stdout",
     "output_type": "stream",
     "text": [
      "0.7324946684204919\n",
      "0.754263509603161\n"
     ]
    }
   ],
   "source": [
    "from sklearn.metrics import mean_squared_error\n",
    "\n",
    "predictions = dt.predict(X_train)\n",
    "print(mean_squared_error(y_train, predictions))\n",
    "\n",
    "predictions = dt.predict(X_test)\n",
    "print(mean_squared_error(y_test, predictions))"
   ]
  },
  {
   "cell_type": "code",
   "execution_count": 17,
   "id": "6751e802",
   "metadata": {},
   "outputs": [
    {
     "name": "stdout",
     "output_type": "stream",
     "text": [
      "[1.35798601 1.35798601 2.0900204  2.95372463 2.0900204  2.0900204\n",
      " 2.0900204  2.0900204  2.0900204  4.26226159]\n",
      "[0.477   0.458   5.00001 2.186   2.78    1.587   1.982   1.575   3.4\n",
      " 4.466  ]\n"
     ]
    }
   ],
   "source": [
    "print(predictions[0:10])\n",
    "print(y_test[0:10])"
   ]
  },
  {
   "cell_type": "markdown",
   "id": "e5b78f55",
   "metadata": {},
   "source": [
    "## Challenges with Decision Trees"
   ]
  },
  {
   "cell_type": "code",
   "execution_count": 37,
   "id": "d9dc199b",
   "metadata": {},
   "outputs": [
    {
     "name": "stdout",
     "output_type": "stream",
     "text": [
      "(100, 1)\n",
      "(100,)\n"
     ]
    }
   ],
   "source": [
    "###### generate test data ########\n",
    "def random_sinus_data():\n",
    "    rng = np.random.RandomState(1)\n",
    "    X = np.sort(5 * rng.rand(100,1), axis=0)\n",
    "    y = np.sin(X).ravel()\n",
    "    y[::5] += 3 * (0.5 - rng.rand(20)) # try with and without random error\n",
    "    return X, y \n",
    "\n",
    "X, y = random_sinus_data()\n",
    "\n",
    "print(X.shape)\n",
    "print(y.shape)"
   ]
  },
  {
   "cell_type": "code",
   "execution_count": 39,
   "id": "d6593dba",
   "metadata": {},
   "outputs": [
    {
     "name": "stdout",
     "output_type": "stream",
     "text": [
      "(100, 1)\n"
     ]
    }
   ],
   "source": [
    "dt1 = RegressionDecisionTree(max_depth=2)\n",
    "dt1.fit(X,y)\n",
    "dt2 = RegressionDecisionTree(max_depth=5)\n",
    "dt2.fit(X,y)\n",
    "dt3 = RegressionDecisionTree(max_depth=10)\n",
    "dt3.fit(X,y)\n",
    "\n",
    "\n",
    "X_test = np.linspace(0,5,100).reshape(100,1)\n",
    "print(X_test.shape)\n",
    "\n",
    "y_1 = dt1.predict(X_test)\n",
    "y_2 = dt2.predict(X_test)\n",
    "y_3 = dt3.predict(X_test)"
   ]
  },
  {
   "cell_type": "code",
   "execution_count": 40,
   "id": "b9d89be2",
   "metadata": {},
   "outputs": [
    {
     "data": {
      "image/png": "[encoded data removed]",
      "text/plain": [
       "<Figure size 640x480 with 1 Axes>"
      ]
     },
     "metadata": {},
     "output_type": "display_data"
    }
   ],
   "source": [
    "import matplotlib.pyplot as plt\n",
    "\n",
    "fig, ax = plt.subplots()\n",
    "ax.scatter(X, y, s=20, edgecolor=\"black\", c=\"darkorange\", label=\"data\")\n",
    "ax.plot(X_test, y_1, color=\"blue\", label=\"max_depth=2\")\n",
    "ax.plot(X_test, y_2, color=\"green\", label=\"max_depth=5\")\n",
    "ax.plot(X_test, y_3, color=\"red\", label=\"max_depth=10\")\n",
    "\n",
    "\n",
    "plt.show()"
   ]
  }
 ],
 "metadata": {
  "kernelspec": {
   "display_name": "Python 3 (ipykernel)",
   "language": "python",
   "name": "python3"
  },
  "language_info": {
   "codemirror_mode": {
    "name": "ipython",
    "version": 3
   },
   "file_extension": ".py",
   "mimetype": "text/x-python",
   "name": "python",
   "nbconvert_exporter": "python",
   "pygments_lexer": "ipython3",
   "version": "3.10.12"
  }
 },
 "nbformat": 4,
 "nbformat_minor": 5
}
