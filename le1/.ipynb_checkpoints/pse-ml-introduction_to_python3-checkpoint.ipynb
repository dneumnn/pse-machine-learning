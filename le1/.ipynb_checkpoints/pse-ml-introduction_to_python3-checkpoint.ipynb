{
 "cells": [
  {
   "cell_type": "markdown",
   "id": "b0c6f13e58d213e6",
   "metadata": {},
   "source": [
    "# Introduction\n",
    "\n",
    "Python 3 is an interpreted untyped programming language. This Juypter Notebook shows some basic concepts.\n",
    "\n",
    "Please read the [styleguide for formatting python code](https://peps.python.org/pep-0008/). "
   ]
  },
  {
   "cell_type": "markdown",
   "id": "6f21aba2ec54b9c1",
   "metadata": {},
   "source": [
    "## Variables\n",
    "\n",
    "In Python 3, variable names are like labels that you are sticking to an object. For example \n",
    "\n",
    "    a = 42\n",
    "    b = \"Hallo\"\n",
    "    \n",
    "means that you assign the label \"a\" to the number 42 and \"b\" to the string-object \"Hallo\". An object van have several labels. Nonetheless, we are usually using the word \"variable\". This definition implies, that a label has no type, therefore python is an untyped language. But the object itself has one! So internally there are variable or object types, but as a programmer you don't have to declare them. \n",
    "\n",
    "Since a few years, there is the option to give type hints in python 3. Those are only for type checkers and have no impact at runtime. We will not use them within this course. \n"
   ]
  },
  {
   "cell_type": "code",
   "execution_count": 1,
   "id": "12aa5ec8757b8d8a",
   "metadata": {
    "ExecuteTime": {
     "end_time": "2023-10-06T09:56:24.414361500Z",
     "start_time": "2023-10-06T09:56:24.400903600Z"
    }
   },
   "outputs": [
    {
     "name": "stdout",
     "output_type": "stream",
     "text": [
      "42 <class 'int'>\n",
      "Hallo <class 'str'>\n",
      "Hallo <class 'str'>\n",
      "Bye <class 'str'>\n",
      "Hallo <class 'str'>\n",
      "I want label a! <class 'str'>\n",
      "True <class 'bool'>\n"
     ]
    }
   ],
   "source": [
    "a = 42\n",
    "print(a, type(a))  # print the content of 'a' and the object type of the object the lable 'a' is stuck to\n",
    "b = \"Hallo\"\n",
    "print(b, type(b))\n",
    "c = \"Hallo\"\n",
    "print(c, type(c))\n",
    "b = \"Bye\"\n",
    "print(b, type(b))\n",
    "print(c, type(c))  # obviously the \"Hallo\" of b and c were different!\n",
    "a = \"I want label a!\"\n",
    "print(a, type(a))  # the label is taken from \"42\" and put to the string \"I want....\"\n",
    "truth_or_dare = True\n",
    "print(truth_or_dare, type(truth_or_dare))"
   ]
  },
  {
   "cell_type": "markdown",
   "id": "d1ae15ac67682e0d",
   "metadata": {},
   "source": [
    "## Printing to console\n",
    "\n",
    "Printing information to the console (or the output section of a Jupyter notebook) is very helpful for debugging or simple command line programs. \n",
    "\n",
    "The simplest way is to print an object itself directly (like a string-object), the result of a calculation or a variable: "
   ]
  },
  {
   "cell_type": "code",
   "execution_count": 2,
   "id": "initial_id",
   "metadata": {
    "ExecuteTime": {
     "end_time": "2023-10-06T10:01:14.600280900Z",
     "start_time": "2023-10-06T10:01:14.571126300Z"
    }
   },
   "outputs": [
    {
     "name": "stdout",
     "output_type": "stream",
     "text": [
      "This is a string\n",
      "73\n",
      "42\n",
      "I want label a!\n"
     ]
    }
   ],
   "source": [
    "print(\"This is a string\")\n",
    "print(73)\n",
    "print(6 * 7)\n",
    "print(a)"
   ]
  },
  {
   "cell_type": "markdown",
   "id": "ad0b6c5261a936f",
   "metadata": {},
   "source": [
    "Often, you want to combine information to be printed as you have already seen in the \"Variables\" section. This can be done by a comma. "
   ]
  },
  {
   "cell_type": "code",
   "execution_count": 3,
   "id": "9c6633be85c68c64",
   "metadata": {
    "ExecuteTime": {
     "end_time": "2023-10-06T10:01:38.797358800Z",
     "start_time": "2023-10-06T10:01:38.776338Z"
    }
   },
   "outputs": [
    {
     "name": "stdout",
     "output_type": "stream",
     "text": [
      "I want label a! Bye 12345 Hallo\n"
     ]
    }
   ],
   "source": [
    "print(a, b, 12345, c)"
   ]
  },
  {
   "cell_type": "markdown",
   "id": "aa30394cd869cba3",
   "metadata": {},
   "source": [
    "More sophisticated output can be achieved with f-strings (formatted strings). Here you can enter a broad range of python statements in curly brackets that are evaluated before printing the string: "
   ]
  },
  {
   "cell_type": "code",
   "execution_count": 4,
   "id": "57ef1207ac6d6564",
   "metadata": {
    "ExecuteTime": {
     "end_time": "2023-10-06T10:08:44.690203Z",
     "start_time": "2023-10-06T10:08:44.671184600Z"
    }
   },
   "outputs": [
    {
     "name": "stdout",
     "output_type": "stream",
     "text": [
      "The variable 'a' points to the string I want label a!.\n",
      "42 is an important number.\n",
      "'b' is Bye and the type of 'b' is <class 'str'>\n",
      "Das sagte ich: 'Ich sage \"Hi\"'. * 1\n"
     ]
    }
   ],
   "source": [
    "print(f\"The variable 'a' points to the string {a}.\" )\n",
    "print(f\"{6 * 7} is an important number.\")\n",
    "print(f\"'b' is {b} and the type of 'b' is {type(b)}\")\n",
    "print(\"\"\"Das sagte ich: 'Ich sage \"Hi\"'.\"\"\", end=\" * \")\n",
    "print(1)"
   ]
  },
  {
   "cell_type": "markdown",
   "id": "f7d411d2343f3bbe",
   "metadata": {},
   "source": [
    "Since Python 3.8, f-strings can be used to debug expressions by using the = operator:"
   ]
  },
  {
   "cell_type": "code",
   "execution_count": 5,
   "id": "bac39dfb4e7a4cc9",
   "metadata": {
    "ExecuteTime": {
     "end_time": "2023-10-06T10:09:39.420152200Z",
     "start_time": "2023-10-06T10:09:39.393533700Z"
    }
   },
   "outputs": [
    {
     "name": "stdout",
     "output_type": "stream",
     "text": [
      "a='I want label a!'\n",
      "6*7=42\n"
     ]
    }
   ],
   "source": [
    "print(f\"{a=}\")\n",
    "print(f\"{6*7=}\")"
   ]
  },
  {
   "cell_type": "markdown",
   "id": "84b1a297dde671b3",
   "metadata": {},
   "source": [
    "## Data type conversion\n",
    "\n",
    "\n",
    "In data driven applications, it is very likely that data is entered a one data type (e.g. as a string) and should be interpreted as another (e.g. a number). Therefore, data types can be converted (if possible):"
   ]
  },
  {
   "cell_type": "code",
   "execution_count": 7,
   "id": "bb1fa06cc93857dc",
   "metadata": {
    "ExecuteTime": {
     "end_time": "2023-10-06T10:10:57.581687400Z",
     "start_time": "2023-10-06T10:10:57.561936300Z"
    }
   },
   "outputs": [
    {
     "name": "stdout",
     "output_type": "stream",
     "text": [
      "73\n",
      "Error! can only concatenate str (not \"int\") to str\n"
     ]
    }
   ],
   "source": [
    "number_as_string = \"73\"\n",
    "print(number_as_string)\n",
    "try:  # we might talk about exceptions later...\n",
    "    one_more = number_as_string + 1  # this will fail because you can not add a number to a text!\n",
    "    print(one_more)\n",
    "except TypeError as e:\n",
    "    print(\"Error!\", e)  # this prints the error message you would normally see in the console"
   ]
  },
  {
   "cell_type": "markdown",
   "id": "98541f9213db98a9",
   "metadata": {},
   "source": [
    "So what we can do is convert one of the objects so that the \"plus\"-operator makes sense:"
   ]
  },
  {
   "cell_type": "code",
   "execution_count": 8,
   "id": "adbcfc26d649281f",
   "metadata": {
    "ExecuteTime": {
     "end_time": "2023-10-06T10:13:28.462995Z",
     "start_time": "2023-10-06T10:13:28.450921100Z"
    }
   },
   "outputs": [
    {
     "name": "stdout",
     "output_type": "stream",
     "text": [
      "one_more=74 <class 'int'>\n",
      "731 <class 'str'>\n"
     ]
    }
   ],
   "source": [
    "one_more = int(number_as_string) + 1\n",
    "print(f\"{one_more=}\", type(one_more))\n",
    "one_added = number_as_string + str(1)\n",
    "print(f\"{one_added}\", type(one_added))"
   ]
  },
  {
   "cell_type": "markdown",
   "id": "c25bb78452532a86",
   "metadata": {},
   "source": [
    "## Control flow structures: Branches (if-statements)\n",
    "\n",
    "\n",
    "if-statements are used to decide on the control flow of the program based on a condition. Example:"
   ]
  },
  {
   "cell_type": "code",
   "execution_count": 10,
   "id": "eec52510b98f4249",
   "metadata": {
    "ExecuteTime": {
     "end_time": "2023-10-06T10:17:02.784434100Z",
     "start_time": "2023-10-06T10:16:44.750859700Z"
    }
   },
   "outputs": [
    {
     "name": "stdout",
     "output_type": "stream",
     "text": [
      "Single\n"
     ]
    }
   ],
   "source": [
    "# x = int(input(\"Please enter an integer: \"))  # please note that \"input\" always returns a \"string\".\n",
    "x = 1\n",
    "\n",
    "if x < 0:\n",
    "    print('You are so negative')\n",
    "elif x == 0:\n",
    "    print('Zero')\n",
    "elif x == 1:\n",
    "    print('Single')\n",
    "else:\n",
    "    print('More')"
   ]
  },
  {
   "cell_type": "markdown",
   "id": "6e63730c976bba5d",
   "metadata": {},
   "source": [
    "BTW: The code above shows the concept of indentation in python: The number of indents show to which part of the control structure the code belongs!"
   ]
  },
  {
   "cell_type": "markdown",
   "id": "db8b848fd6340ef",
   "metadata": {},
   "source": [
    "## Control flow structures: while-loops\n",
    "\n",
    "while-loops are used to do something as long as a condition is met. "
   ]
  },
  {
   "cell_type": "code",
   "execution_count": 11,
   "id": "4a4cde30271c4570",
   "metadata": {
    "ExecuteTime": {
     "end_time": "2023-10-06T10:21:52.422419500Z",
     "start_time": "2023-10-06T10:21:52.405377100Z"
    }
   },
   "outputs": [
    {
     "name": "stdout",
     "output_type": "stream",
     "text": [
      "0\n",
      "1\n",
      "2\n",
      "3\n"
     ]
    }
   ],
   "source": [
    "y = 0\n",
    "while y < 4:\n",
    "    print(y)\n",
    "    y = y + 1"
   ]
  },
  {
   "cell_type": "markdown",
   "id": "3aacc0b86551066e",
   "metadata": {},
   "source": [
    "This can be used e.g. to enforce a certain input or to terminate a program:"
   ]
  },
  {
   "cell_type": "code",
   "execution_count": 13,
   "id": "9e5d55d37754b38",
   "metadata": {
    "ExecuteTime": {
     "end_time": "2023-10-06T10:23:17.449026100Z",
     "start_time": "2023-10-06T10:23:04.289682300Z"
    }
   },
   "outputs": [],
   "source": [
    "# uncomment the next lines to play with it\n",
    "#abort = False\n",
    "#my_sum = 0\n",
    "#while not abort:\n",
    "#    user_input = int(input(\"Please enter a number. Entering '0' terminates the loop\"))\n",
    "#    if user_input == 0:\n",
    "#        abort = True\n",
    "#    else:\n",
    "#        my_sum += user_input\n",
    "#print(my_sum)"
   ]
  },
  {
   "cell_type": "markdown",
   "id": "6783199be3734193",
   "metadata": {},
   "source": [
    "## Lists, Tuples, and Iterables\n",
    "\n",
    "\n",
    "Before we introduce the next control flow structure, we should talk about lists. Lists are used to group or collect objects. Lists can be nested.\n",
    "\n",
    "Objects in lists can be accessed by their index.\n",
    "\n",
    "Please refer to the [python documentation for specific list operations](https://docs.python.org/3/tutorial/introduction.html#lists) like slicing or adding/removing items.\n",
    "\n",
    "*Tuples* are in many aspects like lists, but they are immutable. They are used to group data (e.g. rgb-values) or as return data from a function. "
   ]
  },
  {
   "cell_type": "code",
   "execution_count": 14,
   "id": "ee8ae0f4d31fc9ee",
   "metadata": {
    "ExecuteTime": {
     "end_time": "2023-10-06T10:25:31.975793800Z",
     "start_time": "2023-10-06T10:25:31.949776900Z"
    }
   },
   "outputs": [
    {
     "name": "stdout",
     "output_type": "stream",
     "text": [
      "my_list=[1.0, 'hi', 10, ['list', 'in', 'list']]\n",
      "my_list[0]=1.0\n",
      "my_list[3]=['list', 'in', 'list']\n",
      "my_list[3][1]='in'\n",
      "[1.0, 'hi', 'ten', ['list', 'in', 'list']]\n",
      "(1, 2, 3) <class 'tuple'>\n",
      "Error! 'tuple' object does not support item assignment\n"
     ]
    }
   ],
   "source": [
    "my_list = [1.0, \"hi\", 3+7, [\"list\", \"in\", \"list\"]]\n",
    "print(f\"{my_list=}\")\n",
    "print(f\"{my_list[0]=}\")\n",
    "print(f\"{my_list[3]=}\")\n",
    "print(f\"{my_list[3][1]=}\")\n",
    "my_list[2] = \"ten\"  # lists can be changed\n",
    "print(my_list)\n",
    "\n",
    "my_tuple = (1, 2, 3)\n",
    "print(my_tuple, type(my_tuple))\n",
    "try:\n",
    "    my_tuple[1] = 10\n",
    "except TypeError as e:\n",
    "    print(\"Error!\", e)\n"
   ]
  },
  {
   "cell_type": "markdown",
   "id": "669eebcb5714b5f1",
   "metadata": {},
   "source": [
    "Control flow structures: for-loops\n",
    "----------------------------------\n",
    "\n",
    "for-statements are used to deal with iterables like lists or strings. They are handy to go through lists:"
   ]
  },
  {
   "cell_type": "code",
   "execution_count": 15,
   "id": "d273e345cfdec755",
   "metadata": {
    "ExecuteTime": {
     "end_time": "2023-10-06T10:30:13.792727300Z",
     "start_time": "2023-10-06T10:30:13.771067100Z"
    }
   },
   "outputs": [
    {
     "name": "stdout",
     "output_type": "stream",
     "text": [
      "1.0 is of <class 'float'>\n",
      "hi is of <class 'str'>\n",
      "ten is of <class 'str'>\n",
      "['list', 'in', 'list'] is of <class 'list'>\n",
      "and now with nicer formatting:\n",
      "1.0 is of class 'float'\n",
      "hi is of class 'str'\n",
      "ten is of class 'str'\n",
      "['list', 'in', 'list'] is of class 'list'\n"
     ]
    }
   ],
   "source": [
    "for item in my_list:\n",
    "    print(f\"{item} is of {type(item)}\")\n",
    "    \n",
    "# the following line is just to check whether you read the python docs on slicing ;-):\n",
    "print(\"and now with nicer formatting:\")\n",
    "for item in my_list:\n",
    "    print(f\"{item} is of {str(type(item))[1:-1]}\")\n"
   ]
  },
  {
   "cell_type": "markdown",
   "id": "e137a96cc51a8105",
   "metadata": {},
   "source": [
    "If we need a list of numbers, we can generate it using the [`range()` function](https://docs.python.org/3/tutorial/controlflow.html#the-range-function). Please avoid using `range()` to iterate through a list - just use the pattern above!  "
   ]
  },
  {
   "cell_type": "code",
   "execution_count": 16,
   "id": "fdea1971b7535e47",
   "metadata": {
    "ExecuteTime": {
     "end_time": "2023-10-06T10:35:33.560003600Z",
     "start_time": "2023-10-06T10:35:33.535012500Z"
    }
   },
   "outputs": [
    {
     "name": "stdout",
     "output_type": "stream",
     "text": [
      "range(0, 6)\n",
      "[0, 1, 2, 3, 4, 5]\n",
      "[2, 3, 4, 5, 6, 7]\n",
      "[30, 25, 20, 15, 10]\n"
     ]
    }
   ],
   "source": [
    "print(range(6))\n",
    "print(list(range(6)))\n",
    "print(list(range(2, 8)))\n",
    "print(list(range(30, 5, -5)))"
   ]
  },
  {
   "cell_type": "markdown",
   "id": "5af6169eae5a11a1",
   "metadata": {},
   "source": [
    "If you really need the index of an item, you can use the `enumerate()` function. It returns a tuple containing of the list item index and value:"
   ]
  },
  {
   "cell_type": "code",
   "execution_count": 17,
   "id": "f4d152ad2cc8cb1",
   "metadata": {
    "ExecuteTime": {
     "end_time": "2023-10-06T10:40:09.626587200Z",
     "start_time": "2023-10-06T10:40:09.600059Z"
    }
   },
   "outputs": [
    {
     "name": "stdout",
     "output_type": "stream",
     "text": [
      "Item at index 0 is 1.0.\n",
      "Item at index 1 is hi.\n",
      "Item at index 2 is ten.\n",
      "Item at index 3 is ['list', 'in', 'list'].\n",
      "Item 1 is 1.0.\n",
      "Item 2 is hi.\n",
      "Item 3 is ten.\n",
      "Item 4 is ['list', 'in', 'list'].\n"
     ]
    }
   ],
   "source": [
    "for index, value in enumerate(my_list):\n",
    "    print(f\"Item at index {index} is {value}.\")\n",
    "for index, value in enumerate(my_list, start=1):\n",
    "    print(f\"Item {index} is {value}.\")"
   ]
  },
  {
   "cell_type": "markdown",
   "id": "ee7b0aa3b0863ec9",
   "metadata": {},
   "source": [
    "The code above used unpacking of a tuple: You can assign the values of a tuple to several variables:"
   ]
  },
  {
   "cell_type": "code",
   "execution_count": 18,
   "id": "40815ce4a66bc72f",
   "metadata": {
    "ExecuteTime": {
     "end_time": "2023-10-06T10:38:46.391467800Z",
     "start_time": "2023-10-06T10:38:46.370212500Z"
    }
   },
   "outputs": [
    {
     "name": "stdout",
     "output_type": "stream",
     "text": [
      "r=255 g=0 b=255\n"
     ]
    }
   ],
   "source": [
    "r, g, b = (255, 0, 255)\n",
    "print(f\"{r=} {g=} {b=}\")"
   ]
  },
  {
   "cell_type": "markdown",
   "id": "6c837cdff31da413",
   "metadata": {},
   "source": [
    "## Functions\n",
    "\n",
    "\n",
    "You already used functions like `print()` to call code someone else wrote for you. You can define your own functions to modularize and re-use code. \n",
    "\n",
    "Functions can have parameters and can have return values (in fact in python every function has a return value, the default value is `None`). They must contain at least one line of code.\n"
   ]
  },
  {
   "cell_type": "code",
   "execution_count": 19,
   "id": "6c36d2dd1a07e1a3",
   "metadata": {
    "ExecuteTime": {
     "end_time": "2023-10-06T10:44:15.426907800Z",
     "start_time": "2023-10-06T10:44:15.406908400Z"
    }
   },
   "outputs": [
    {
     "name": "stdout",
     "output_type": "stream",
     "text": [
      "None\n"
     ]
    }
   ],
   "source": [
    "def my_minimal_function():\n",
    "    pass\n",
    "\n",
    "print(my_minimal_function())"
   ]
  },
  {
   "cell_type": "code",
   "execution_count": 20,
   "id": "e726f22416c3e84a",
   "metadata": {
    "ExecuteTime": {
     "end_time": "2023-10-06T10:44:59.166239100Z",
     "start_time": "2023-10-06T10:44:59.137684800Z"
    }
   },
   "outputs": [
    {
     "name": "stdout",
     "output_type": "stream",
     "text": [
      "42\n"
     ]
    }
   ],
   "source": [
    "def function_with_parameters_and_return_value(number):\n",
    "    return number + 1\n",
    "\n",
    "print(function_with_parameters_and_return_value(41))"
   ]
  },
  {
   "cell_type": "markdown",
   "id": "28284ae04868388d",
   "metadata": {},
   "source": [
    "Function parameters can have default values. The following example also demonstrates the return of a tuple."
   ]
  },
  {
   "cell_type": "code",
   "execution_count": 21,
   "id": "c4589a3ce5c666d1",
   "metadata": {
    "ExecuteTime": {
     "end_time": "2023-10-06T10:46:48.484380400Z",
     "start_time": "2023-10-06T10:46:48.465485900Z"
    }
   },
   "outputs": [
    {
     "name": "stdout",
     "output_type": "stream",
     "text": [
      "adding 1\n",
      "adding 3\n",
      "adding 5\n",
      "adding 7\n",
      "adding 9\n",
      "result_sum=25, count=5\n",
      "adding 1\n",
      "adding 4\n",
      "adding 7\n",
      "result_sum=12, count=3\n"
     ]
    }
   ],
   "source": [
    "def sum_to(start, end=10, step=2):\n",
    "    local_result_sum = 0\n",
    "    local_count = 0\n",
    "    for number in range(start, end, step):\n",
    "        print(\"adding\", number)\n",
    "        local_result_sum += number\n",
    "        local_count += 1\n",
    "    return local_result_sum, local_count\n",
    "\n",
    "result_sum, count = sum_to(1)\n",
    "print(f\"{result_sum=}, {count=}\")\n",
    "\n",
    "result_sum, count = sum_to(1, step=3)\n",
    "print(f\"{result_sum=}, {count=}\")"
   ]
  },
  {
   "cell_type": "markdown",
   "id": "f5057070d8c9260d",
   "metadata": {},
   "source": [
    "## Imports\n",
    "\n",
    "\n",
    "You can import other software packages and code to your project using `import`. There are built-in packages like python collections, path tools, itertools, etc. where you just have to import the module or the function of the module you are needing.\n",
    "\n",
    "If you are using external libraries like we'll do in this course, you'll first have to install them using a packet manager like pip.  "
   ]
  },
  {
   "cell_type": "code",
   "execution_count": 23,
   "id": "da3072ee04222882",
   "metadata": {
    "ExecuteTime": {
     "end_time": "2023-10-06T10:54:31.738048900Z",
     "start_time": "2023-10-06T10:54:31.619680800Z"
    }
   },
   "outputs": [],
   "source": [
    "# uncomment the next lines to play with it\n",
    "#from os import getcwd\n",
    "#print(getcwd())\n",
    "#\n",
    "#import webbrowser\n",
    "#webbrowser.open(\"https://peps.python.org/pep-0020/\")\n",
    "#\n",
    "#from math import pi as the_circular_numer\n",
    "#print(f\"You can specify how to display numbers in f-strings like {the_circular_numer} shortened to two digits: {the_circular_numer:.2f}\")"
   ]
  },
  {
   "cell_type": "markdown",
   "id": "b47036c45907b92e",
   "metadata": {},
   "source": [
    "File Operations (and some tipps and tricks for string handling)\n",
    "---------------------------------------------------------------\n",
    "\n",
    "If we want to persist data between runs of a programm or if we want to store results or read in larger inputs ,we have to read or write files from our computer.\n",
    "For storing data, the [`pickle` module](https://docs.python.org/3/library/pickle.html) is the most convenient and flexible solution. Nonetheless, it is most useful when we are just using our own code and objects. In our cases we will more likely read pure text files or structured text files like [csv-](https://docs.python.org/3/library/csv.html), [xml-](https://docs.python.org/3/library/xml.html) or [json-](https://docs.python.org/3/library/json.html)files. For all of them, python offers respective helper modules (see links under the names). \n",
    "In this section, we will *not* use those helpers but read and write a file using the plain file handling statements. A comprehensive [guide is found in the python documentation](https://docs.python.org/3/tutorial/inputoutput.html#reading-and-writing-files)."
   ]
  },
  {
   "cell_type": "code",
   "execution_count": 24,
   "id": "fb40d0b7d105b0dd",
   "metadata": {
    "ExecuteTime": {
     "end_time": "2023-10-06T11:00:50.121326700Z",
     "start_time": "2023-10-06T11:00:50.103500800Z"
    }
   },
   "outputs": [],
   "source": [
    "with open('file.txt', 'w') as f:   # \"w\" stands for \"write\"-access\n",
    "    f.write('my text')\n",
    "    f.write(' more text')\n",
    "    f.write('\\nnew line')\n",
    "    f.writelines([\" some\", \"more\", \"text\"])\n",
    "    f.write(\"\\n\")\n",
    "    f.writelines(\"\\n\".join([\"some\", \"more\", \"text\"]))   # \"join()\" is useful to concatenate strings\n",
    "    f.writelines([\"\\n\", str(42)])   # we have to convert all data to strings before writing them to a text file."
   ]
  },
  {
   "cell_type": "code",
   "execution_count": 25,
   "id": "1547911a3e1fae84",
   "metadata": {
    "ExecuteTime": {
     "end_time": "2023-10-06T11:01:08.394159700Z",
     "start_time": "2023-10-06T11:01:08.369985100Z"
    }
   },
   "outputs": [
    {
     "name": "stdout",
     "output_type": "stream",
     "text": [
      "my text more text\n",
      "new line somemoretext\n",
      "some\n",
      "more\n",
      "text\n",
      "42\n"
     ]
    }
   ],
   "source": [
    "with open('file.txt', 'r') as f:   # \"r\" stands for \"read\"-access\n",
    "    file_content = f.read()\n",
    "print(file_content)"
   ]
  },
  {
   "cell_type": "markdown",
   "id": "c081d0deda892268",
   "metadata": {},
   "source": [
    "The following example will write a more complex list to a file and read it afterward. It will use python string operations that make life easier when dealing with strings.  "
   ]
  },
  {
   "cell_type": "code",
   "execution_count": 26,
   "id": "a16ddee9b96188b6",
   "metadata": {
    "ExecuteTime": {
     "end_time": "2023-10-06T11:17:35.311403400Z",
     "start_time": "2023-10-06T11:17:35.293266300Z"
    }
   },
   "outputs": [],
   "source": [
    "results = [[\"Peter\", 20, 2],\n",
    "           [\"Paul\", 0, 3],\n",
    "           [\"Mary\", 25, 1]]\n",
    "with open('results.txt', 'w') as f:\n",
    "    for result in results:\n",
    "        f.write(\",\".join(map(str, result)) + \"\\n\")   # please look up the documentation for \"map()\"!"
   ]
  },
  {
   "cell_type": "code",
   "execution_count": 27,
   "id": "68de900d365fca3d",
   "metadata": {
    "ExecuteTime": {
     "end_time": "2023-10-06T11:18:54.662460600Z",
     "start_time": "2023-10-06T11:18:54.642022500Z"
    }
   },
   "outputs": [
    {
     "name": "stdout",
     "output_type": "stream",
     "text": [
      "Name: Peter, Score: 20, Placement: 2\n",
      "Name: Paul, Score: 0, Placement: 3\n",
      "Name: Mary, Score: 25, Placement: 1\n",
      "[['Peter', 20, 2], ['Paul', 0, 3], ['Mary', 25, 1]]\n"
     ]
    }
   ],
   "source": [
    "with open('results.txt', 'r') as f:\n",
    "    results = []\n",
    "    for line in f:\n",
    "        result = line.strip().split(',')   # strip() removes whitespaces, split() splits the string\n",
    "        name, score, placement = result\n",
    "        print(f\"Name: {name}, Score: {score}, Placement: {placement}\")\n",
    "        results.append([name, int(score), int(placement)])\n",
    "print(results)"
   ]
  },
  {
   "cell_type": "markdown",
   "id": "91a9e1327278932b",
   "metadata": {},
   "source": [
    "Dictionaries\n",
    "------------\n",
    "\n",
    "In the example above, the meaning of the numbers in the list `[\"Peter\", 20, 2]` were not intuitively obvious. It would be better to have a data structure in which not the position but an explicit texts describes the content. A `dictionary` is such a description. "
   ]
  },
  {
   "cell_type": "code",
   "execution_count": 28,
   "id": "a68e41760cad48f0",
   "metadata": {
    "ExecuteTime": {
     "end_time": "2023-10-06T11:20:51.110988100Z",
     "start_time": "2023-10-06T11:20:51.091667400Z"
    }
   },
   "outputs": [
    {
     "name": "stdout",
     "output_type": "stream",
     "text": [
      "Here comes the dict for Peter: {'name': 'Peter', 'score': 20, 'placement': 2}\n",
      "{'name': 'Peter', 'score': 20, 'placement': 2, 'one_more_item': 'more Information'}\n"
     ]
    }
   ],
   "source": [
    "result_dict = {'name': 'Peter', \n",
    "               'score': 20, \n",
    "               'placement': 2}\n",
    "print(f\"Here comes the dict for {result_dict['name']}:\", result_dict)\n",
    "result_dict['one_more_item'] = \"more Information\"\n",
    "print(result_dict)\n"
   ]
  },
  {
   "cell_type": "code",
   "execution_count": null,
   "id": "87e9c3d97b7efa88",
   "metadata": {},
   "outputs": [],
   "source": []
  }
 ],
 "metadata": {
  "kernelspec": {
   "display_name": "Python 3 (ipykernel)",
   "language": "python",
   "name": "python3"
  },
  "language_info": {
   "codemirror_mode": {
    "name": "ipython",
    "version": 3
   },
   "file_extension": ".py",
   "mimetype": "text/x-python",
   "name": "python",
   "nbconvert_exporter": "python",
   "pygments_lexer": "ipython3",
   "version": "3.10.12"
  }
 },
 "nbformat": 4,
 "nbformat_minor": 5
}
