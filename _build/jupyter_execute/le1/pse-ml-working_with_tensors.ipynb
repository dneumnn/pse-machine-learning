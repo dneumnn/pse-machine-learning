{
 "cells": [
  {
   "cell_type": "markdown",
   "id": "8f8ae582",
   "metadata": {},
   "source": [
    "# What is a tensor?\n",
    "\n",
    "A PyTorch Tensor is basically the same as a numpy array: it is just a generic n-dimensional array to be used for arbitrary numeric computation.\n",
    "\n",
    "\\begin{align*}\n",
    "  \\begin{bmatrix}\n",
    "    1 \\\\\n",
    "  \\end{bmatrix}\n",
    "  &&\n",
    "  \\begin{bmatrix}\n",
    "    1 \\\\\n",
    "    2 \\\\\n",
    "    3 \\\\\n",
    "  \\end{bmatrix}\n",
    "  &&\n",
    "  \\begin{bmatrix}\n",
    "    1 & 2 & 3 \\\\\n",
    "    4 & 5 & 6 \\\\\n",
    "    7 & 8 & 9 \\\\\n",
    "  \\end{bmatrix}\n",
    "  &&\n",
    "  \\begin{bmatrix}\n",
    "      \\begin{bmatrix}\n",
    "            a & b \\\\\n",
    "            c & d \\\\\n",
    "      \\end{bmatrix}\n",
    "        &\n",
    "      \\begin{bmatrix}\n",
    "            e & f \\\\\n",
    "            g & h \\\\\n",
    "      \\end{bmatrix}\n",
    "   \\end{bmatrix}\n",
    "\\end{align*}\n"
   ]
  },
  {
   "cell_type": "code",
   "execution_count": 1,
   "id": "2c742833",
   "metadata": {},
   "outputs": [
    {
     "ename": "NameError",
     "evalue": "name 'torch' is not defined",
     "output_type": "error",
     "traceback": [
      "\u001b[0;31m---------------------------------------------------------------------------\u001b[0m",
      "\u001b[0;31mNameError\u001b[0m                                 Traceback (most recent call last)",
      "Cell \u001b[0;32mIn[1], line 2\u001b[0m\n\u001b[1;32m      1\u001b[0m \u001b[38;5;66;03m# understand tensors\u001b[39;00m\n\u001b[0;32m----> 2\u001b[0m scalar \u001b[38;5;241m=\u001b[39m \u001b[43mtorch\u001b[49m\u001b[38;5;241m.\u001b[39mtensor(\u001b[38;5;241m7\u001b[39m)\n\u001b[1;32m      3\u001b[0m \u001b[38;5;28mprint\u001b[39m(scalar)\n\u001b[1;32m      4\u001b[0m \u001b[38;5;28mprint\u001b[39m(scalar\u001b[38;5;241m.\u001b[39mshape)\n",
      "\u001b[0;31mNameError\u001b[0m: name 'torch' is not defined"
     ]
    }
   ],
   "source": [
    "# understand tensors\n",
    "scalar = torch.tensor(7)\n",
    "print(scalar)\n",
    "print(scalar.shape)\n",
    "print(scalar.ndim)\n",
    "print(type(scalar.item()))\n",
    "print(scalar.item())"
   ]
  },
  {
   "cell_type": "code",
   "execution_count": 12,
   "id": "643cd914",
   "metadata": {},
   "outputs": [],
   "source": [
    "T = torch.tensor([[[1,2,3],[4,5,6],[7,8,9]]])"
   ]
  },
  {
   "cell_type": "code",
   "execution_count": 19,
   "id": "c16c43eb",
   "metadata": {},
   "outputs": [
    {
     "name": "stdout",
     "output_type": "stream",
     "text": [
      "torch.Size([1, 3, 3])\n",
      "3\n"
     ]
    }
   ],
   "source": [
    "print(T.shape)\n",
    "print(T.ndim)"
   ]
  },
  {
   "cell_type": "code",
   "execution_count": 20,
   "id": "37efe883",
   "metadata": {},
   "outputs": [
    {
     "name": "stdout",
     "output_type": "stream",
     "text": [
      "tensor([[1, 2, 3],\n",
      "        [4, 5, 6],\n",
      "        [7, 8, 9]])\n"
     ]
    }
   ],
   "source": [
    "print(T[0])"
   ]
  },
  {
   "cell_type": "code",
   "execution_count": 21,
   "id": "70a08223",
   "metadata": {},
   "outputs": [
    {
     "name": "stdout",
     "output_type": "stream",
     "text": [
      "tensor(1)\n"
     ]
    }
   ],
   "source": [
    "print(T[0,0,0])"
   ]
  },
  {
   "cell_type": "code",
   "execution_count": 26,
   "id": "95a7a59a",
   "metadata": {},
   "outputs": [],
   "source": [
    "############ Random Tensors\n",
    "R = torch.rand(size=(1,3,3))"
   ]
  },
  {
   "cell_type": "code",
   "execution_count": 42,
   "id": "b5a910f7",
   "metadata": {},
   "outputs": [
    {
     "name": "stdout",
     "output_type": "stream",
     "text": [
      "tensor([[[0.7685, 0.6302, 0.7334],\n",
      "         [0.3931, 0.5328, 0.5003],\n",
      "         [0.1093, 0.4777, 0.3667]]])\n"
     ]
    }
   ],
   "source": [
    "print(R)"
   ]
  },
  {
   "cell_type": "code",
   "execution_count": 34,
   "id": "48b22cd9",
   "metadata": {},
   "outputs": [
    {
     "data": {
      "text/plain": [
       "tensor(1.)"
      ]
     },
     "execution_count": 34,
     "metadata": {},
     "output_type": "execute_result"
    }
   ],
   "source": [
    "############ dtype - precision\n",
    "T = torch.tensor(1, dtype=torch.float32)\n",
    "T"
   ]
  },
  {
   "cell_type": "code",
   "execution_count": 39,
   "id": "99280e29",
   "metadata": {},
   "outputs": [
    {
     "data": {
      "text/plain": [
       "device(type='cpu')"
      ]
     },
     "execution_count": 39,
     "metadata": {},
     "output_type": "execute_result"
    }
   ],
   "source": [
    "############ dtype, shape and device ##########\n",
    "# https://towardsdatascience.com/gpu-acceleration-comes-to-pytorch-on-m1-macs-195c399efcc1\n",
    "T.device"
   ]
  },
  {
   "cell_type": "code",
   "execution_count": 41,
   "id": "969ef74a",
   "metadata": {},
   "outputs": [
    {
     "name": "stdout",
     "output_type": "stream",
     "text": [
      "tensor([[[0.7685, 0.6302, 0.7334],\n",
      "         [0.3931, 0.5328, 0.5003],\n",
      "         [0.1093, 0.4777, 0.3667]]])\n"
     ]
    }
   ],
   "source": [
    "############ Tensor operations\n",
    "# element-wise operation:\n",
    "# +, -, *, /\n",
    "print(T*R)"
   ]
  },
  {
   "cell_type": "code",
   "execution_count": 43,
   "id": "d45565ba",
   "metadata": {},
   "outputs": [],
   "source": [
    "# matrix multiplication\n",
    "X = torch.matmul(R,R)\n",
    "# same like X = R @ R, alias torch.mm \n",
    "# inner dimensions must match\n",
    "# result has shape of outer dimensions"
   ]
  },
  {
   "cell_type": "code",
   "execution_count": 45,
   "id": "280588a1",
   "metadata": {},
   "outputs": [],
   "source": [
    "? torch.dot"
   ]
  },
  {
   "cell_type": "code",
   "execution_count": 59,
   "id": "97d7f473",
   "metadata": {},
   "outputs": [
    {
     "data": {
      "text/plain": [
       "tensor([[[0.7101, 0.9245, 0.3180, 1.4702],\n",
       "         [0.8769, 1.4341, 0.6462, 1.6744],\n",
       "         [0.6869, 1.2259, 0.5915, 1.1975],\n",
       "         [0.5724, 1.2747, 0.7578, 0.8404]],\n",
       "\n",
       "        [[0.7220, 1.7270, 1.5724, 1.9292],\n",
       "         [0.4795, 1.3412, 1.5326, 1.8733],\n",
       "         [0.5586, 1.4175, 1.1747, 1.5549],\n",
       "         [0.3248, 0.7444, 0.4342, 0.5924]],\n",
       "\n",
       "        [[1.4449, 1.4490, 0.7497, 0.6818],\n",
       "         [0.7298, 0.8096, 0.8463, 1.0180],\n",
       "         [1.1349, 1.1720, 0.9073, 0.9457],\n",
       "         [0.8842, 0.8422, 0.5761, 0.4552]],\n",
       "\n",
       "        [[1.4645, 1.1539, 0.9829, 1.1358],\n",
       "         [1.5764, 1.1122, 1.1522, 1.2890],\n",
       "         [0.9032, 0.7528, 0.2807, 0.5672],\n",
       "         [1.3030, 1.3250, 0.8208, 0.8769]]])"
      ]
     },
     "execution_count": 59,
     "metadata": {},
     "output_type": "execute_result"
    }
   ],
   "source": [
    "#### tensor multiplication ?\n",
    "R1 = torch.rand(4, 4, 4)\n",
    "R2 = torch.rand(4, 4, 4)\n",
    "R1 @ R2"
   ]
  },
  {
   "cell_type": "code",
   "execution_count": null,
   "id": "91641e89",
   "metadata": {},
   "outputs": [],
   "source": []
  }
 ],
 "metadata": {
  "kernelspec": {
   "display_name": "Python 3 (ipykernel)",
   "language": "python",
   "name": "python3"
  },
  "language_info": {
   "codemirror_mode": {
    "name": "ipython",
    "version": 3
   },
   "file_extension": ".py",
   "mimetype": "text/x-python",
   "name": "python",
   "nbconvert_exporter": "python",
   "pygments_lexer": "ipython3",
   "version": "3.10.12"
  }
 },
 "nbformat": 4,
 "nbformat_minor": 5
}