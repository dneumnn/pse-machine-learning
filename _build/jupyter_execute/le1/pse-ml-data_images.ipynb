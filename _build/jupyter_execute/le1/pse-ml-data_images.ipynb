{
 "cells": [
  {
   "cell_type": "markdown",
   "id": "b02baf29",
   "metadata": {},
   "source": [
    "# Images as Data\n",
    "\n",
    "Images are a special kind of data, because they have a special structure. Data are organized in a grid. Every Pixel in an image has a well defined position inside the grid and the gird defines their neighborhood. Every image can be extressed by a matrix (or tensor) of color values. Color values can be black or white {0,1}, greyscale {0, ...255} or cloud be [RGB](https://en.wikipedia.org/wiki/RGB_color_model) values. \n",
    "\n",
    "## MINST Dataset\n",
    "see: https://en.wikipedia.org/wiki/MNIST_database\n",
    "\n",
    "MINST is a dataset of 70.000 greyscale handwritten digist with resolution 28 x 28 pixel per image and can be found [here](http://yann.lecun.com/exdb/mnist/). \n",
    "\n",
    "Fortunalty there is a python package called **gzip** that could be used to load te data."
   ]
  },
  {
   "cell_type": "markdown",
   "id": "b9b2916d",
   "metadata": {},
   "source": [
    "## Exersice 1:\n",
    "\n",
    "Download the dataset into our working directory ./inputs/minst:\n",
    "- train-images-idx3-ubyte.gz: training set images\n",
    "- train-labels-idx1-ubyte.gz: training set labels\n",
    "- t10k-images-idx3-ubyte.gz: test set images\n",
    "- t10k-labels-idx1-ubyte.gz: test set labels\n",
    "\n",
    "Then Load the data with gzip and convert your data into numpy arrays."
   ]
  },
  {
   "cell_type": "code",
   "execution_count": 1,
   "id": "b34672bf",
   "metadata": {},
   "outputs": [],
   "source": [
    "import gzip\n",
    "import numpy as np\n",
    "import matplotlib.pyplot as plt"
   ]
  },
  {
   "cell_type": "code",
   "execution_count": 2,
   "id": "514134b6",
   "metadata": {},
   "outputs": [],
   "source": [
    "f = gzip.open('../inputs/minst/train-images-idx3-ubyte.gz','r')\n",
    "\n",
    "image_size = 28\n",
    "num_images = 60000\n",
    "f.read(16)\n",
    "buf = f.read(image_size * image_size * num_images)\n",
    "\n",
    "data = np.frombuffer(buf, dtype=np.uint8).astype(np.float32)\n",
    "X = data.reshape(num_images, image_size, image_size, 1)\n",
    "\n",
    "\n",
    "f = gzip.open('../inputs/minst/train-labels-idx1-ubyte.gz','r')\n",
    "f.read(8)\n",
    "buf = f.read(num_images)\n",
    "\n",
    "data = np.frombuffer(buf, dtype=np.uint8).astype(np.int32)\n",
    "y = data.reshape(num_images, 1)"
   ]
  },
  {
   "cell_type": "code",
   "execution_count": 3,
   "id": "02f1df6d",
   "metadata": {},
   "outputs": [
    {
     "name": "stdout",
     "output_type": "stream",
     "text": [
      "(60000, 28, 28, 1)\n",
      "(60000, 1)\n"
     ]
    }
   ],
   "source": [
    "print(X.shape)\n",
    "print(y.shape)"
   ]
  },
  {
   "cell_type": "markdown",
   "id": "43dc07e5",
   "metadata": {},
   "source": [
    "## Exersice 2:\n",
    "\n",
    "Try to visualize an imgage pth Matplotlib.pyplot.imshow() function.\n",
    "\n",
    "Hint: The shape of X is (60000, 28, 28, 1). So we want to squeeze out a 28x28 array of X.   "
   ]
  },
  {
   "cell_type": "code",
   "execution_count": 4,
   "id": "b0dd45e6",
   "metadata": {},
   "outputs": [
    {
     "name": "stdout",
     "output_type": "stream",
     "text": [
      "(28, 28)\n"
     ]
    },
    {
     "data": {
      "image/png": "[encoded data removed]",
      "text/plain": [
       "<Figure size 640x480 with 1 Axes>"
      ]
     },
     "metadata": {},
     "output_type": "display_data"
    }
   ],
   "source": [
    "# show the thrid image:\n",
    "image = X[2,:,:,0].squeeze()\n",
    "print(image.shape)\n",
    "plt.imshow(image, cmap=plt.cm.binary)\n",
    "plt.show()"
   ]
  },
  {
   "cell_type": "code",
   "execution_count": 5,
   "id": "52088bf4",
   "metadata": {},
   "outputs": [
    {
     "name": "stdout",
     "output_type": "stream",
     "text": [
      "4\n"
     ]
    }
   ],
   "source": [
    "print(y[2,0])"
   ]
  }
 ],
 "metadata": {
  "kernelspec": {
   "display_name": "Python 3 (ipykernel)",
   "language": "python",
   "name": "python3"
  },
  "language_info": {
   "codemirror_mode": {
    "name": "ipython",
    "version": 3
   },
   "file_extension": ".py",
   "mimetype": "text/x-python",
   "name": "python",
   "nbconvert_exporter": "python",
   "pygments_lexer": "ipython3",
   "version": "3.10.12"
  }
 },
 "nbformat": 4,
 "nbformat_minor": 5
}