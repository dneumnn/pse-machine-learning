{
 "cells": [
  {
   "cell_type": "markdown",
   "id": "709ce5bc",
   "metadata": {},
   "source": [
    "# Perceptron \n",
    "\n",
    "Perceptron was one of the first simplified models of a biological neuron.\n",
    "\n",
    "![Perceptron](./neuron.png)\n",
    "\n",
    "\n",
    "In the modern sense, the perceptron is an algorithm for learning a binary classifier called a threshold function: a function that maps its input $x$ (a real-valued vector) to an output value $f(x)$ (a single binary value):\n",
    "\n",
    "Assume we have data points with labels $y \\in \\{0,1\\}$ and want to do binary classification.\n",
    "\n",
    "$$f(x) = \\begin{cases} 1 & \\text{if} \\: w^T * x + b > 0\\\\ 0 & \\text{otherwise}\\end{cases}$$"
   ]
  },
  {
   "cell_type": "markdown",
   "id": "45716190",
   "metadata": {},
   "source": [
    "## Idea: Find a Separating Hyperplane\n",
    "\n",
    "### Linear Model\n",
    "\n",
    "$$ h(x) = w^T * x + b$$\n",
    "\n",
    "### Step-wise Activation Function\n",
    "\n",
    "$$g(z) = \\begin{cases} 1 & \\text{if} \\: z > 0\\\\ 0 & \\text{otherwise}\\end{cases}$$\n",
    "\n",
    "### Prediction\n",
    "\n",
    "Prediction is made by executing the model and than use the activation function. If the model outputs value > 0 then activation is made:\n",
    "\n",
    "$$\\hat{y} = g(h(x)) = g( w^T * x + b)$$\n",
    "\n",
    "Because the activation function is not  continuous differentiable in 0 we cant use Gradient Descent. But their is a simple update-function:\n",
    "\n",
    "$$ w := w + \\Delta w$$\n",
    "\n",
    "$$ \\Delta w := \\alpha * (y - \\hat{y})*x $$\n",
    "\n",
    "$\\alpha$ learning rate with $\\alpha$ in $[0,1]$."
   ]
  },
  {
   "cell_type": "markdown",
   "id": "0c58b1b4",
   "metadata": {},
   "source": [
    "## Update Rule\n",
    "\n",
    "\n",
    " |y|y_predict|output|what|\n",
    " |:-|:-|:-|:-|\n",
    " |1| 1 |0||\n",
    " |1| 0 |1|weights too low|\n",
    " |0| 1 |-1|weights too high| \n",
    " |0| 0 |0||"
   ]
  },
  {
   "cell_type": "markdown",
   "id": "7ff3c210",
   "metadata": {},
   "source": [
    "## Exercise \n",
    "\n",
    "Implement Perceptron with numpy from scratch\n",
    "\n",
    "1. Split the data into test and train data\n",
    "2. Define Model\n",
    "3. No explicit Loss function necessary, but activation rule\n",
    "4. Initialize weight at zero\n",
    "5. Train 20 Epochs using update function\n",
    "6. Compute accurance with your test data"
   ]
  },
  {
   "cell_type": "code",
   "execution_count": 1,
   "id": "5dd466ef",
   "metadata": {},
   "outputs": [],
   "source": [
    "################ implementation with numpy from scratch ##############\n",
    "import numpy as np\n",
    "\n",
    "def activation_function(z):\n",
    "    result = None         # use np.where() with condition\n",
    "    return result\n",
    "\n",
    "class Perceptron():\n",
    "    \n",
    "    def __init__(self, params): # which parameters do we need?\n",
    "        \n",
    "        self.params = params\n",
    "        self.weights = None\n",
    "        self.bias = None\n",
    "\n",
    "    def model(self, X):\n",
    "        return None\n",
    "        \n",
    "    def fit(self, X,y):\n",
    "        \n",
    "        m_samples, n_features = 0, 0 # how to get m_samples, n_features\n",
    "        # initialize weights and bias\n",
    "        self.weights = 0\n",
    "        self.bias = 0\n",
    "        \n",
    "        y_ = np.array([1 if i > 0 else 0 for i in y]) # trick to secure that only integers are allowed\n",
    "        \n",
    "        #iterate over epochs and over each sample in X\n",
    "        #for :\n",
    "            # :\n",
    "        x_i = 0\n",
    "        z = self.model(x_i)\n",
    "        y_pred = activation_function(z)\n",
    "        #adjust the weights and bias for each sample in X\n",
    "        update = 0 # self.lr * (y_[idx] - y_pred)\n",
    "        self.weights += update * x_i\n",
    "        self.bias    += update * 1\n",
    "    \n",
    "    def predict(self, X):\n",
    "        z = self.model(X)\n",
    "        y_pred = activation_function(z)\n",
    "        return y_pred"
   ]
  },
  {
   "cell_type": "code",
   "execution_count": 2,
   "id": "0b4ef8bb",
   "metadata": {},
   "outputs": [
    {
     "name": "stdout",
     "output_type": "stream",
     "text": [
      "0.0\n",
      "0 0\n"
     ]
    }
   ],
   "source": [
    "from sklearn.model_selection import train_test_split\n",
    "from sklearn import datasets\n",
    "\n",
    "bc = datasets.load_breast_cancer()\n",
    "X_data, y_data = bc.data, bc.target\n",
    "\n",
    "from sklearn.datasets import make_classification\n",
    "X_data, y_data = make_classification(n_samples=100, n_features=2, n_redundant=0, n_informative=1, n_classes=2,\n",
    "                           n_clusters_per_class=1, flip_y=0.0,random_state=42)\n",
    "\n",
    "X_train, X_test, y_train, y_test = train_test_split(X_data, y_data, test_size=0.2, random_state=42)\n",
    "\n",
    "params = None\n",
    "\n",
    "Per = Perceptron(params) #set right param !\n",
    "Per.fit(X_train, y_train)\n",
    "\n",
    "y_pred = Per.predict(X_test)\n",
    "\n",
    "def accuracy(y_pred, y_test):\n",
    "    return np.sum(y_pred == y_test)/len(y_test)\n",
    "\n",
    "print(accuracy(y_pred, y_test))\n",
    "\n",
    "w = Per.weights\n",
    "b = Per.bias\n",
    "\n",
    "print(w, b)"
   ]
  },
  {
   "cell_type": "markdown",
   "id": "5c382153",
   "metadata": {},
   "source": [
    "# Visualize your result"
   ]
  },
  {
   "cell_type": "code",
   "execution_count": 3,
   "id": "3280affb",
   "metadata": {},
   "outputs": [],
   "source": [
    "import matplotlib.pyplot as plt\n",
    "def print_2d_result(X_data, y_data, w, b):\n",
    "    \n",
    "    x, y = X_data.shape\n",
    "    if y != 2:\n",
    "        print(f\"data have not dim 2, instead {y}. Please transform your data to 2 dim.\")\n",
    "    else:\n",
    "    \n",
    "        fig, ax =plt.subplots()\n",
    "        ax.scatter(X_data[:,0], X_data[:,1], c=y_data, s=4, marker=\"o\")\n",
    "\n",
    "        # construct separating line\n",
    "        x_0_1 = np.amin(X_data[:,0])\n",
    "        x_0_2 = np.amax(X_data[:,0])\n",
    "        try:\n",
    "            x_1_1 = (-w[0] * x_0_1 - b) / w[1]\n",
    "            x_1_2 = (-w[0] * x_0_2 - b) / w[1]\n",
    "\n",
    "            ax.plot([x_0_1, x_0_2], [x_1_1, x_1_2], 'k')\n",
    "\n",
    "            y_min = np.amin(X_data[:,1])\n",
    "            y_max = np.amax(X_data[:,1])\n",
    "            ax.set_ylim(y_min-3, y_max+3)\n",
    "        except:\n",
    "            pass\n",
    "        plt.show()"
   ]
  },
  {
   "cell_type": "code",
   "execution_count": 4,
   "id": "5863f227",
   "metadata": {},
   "outputs": [
    {
     "data": {
      "image/png": "[encoded data removed]",
      "text/plain": [
       "<Figure size 640x480 with 1 Axes>"
      ]
     },
     "metadata": {},
     "output_type": "display_data"
    }
   ],
   "source": [
    "print_2d_result(X_data, y_data, w, b)"
   ]
  }
 ],
 "metadata": {
  "kernelspec": {
   "display_name": "Python 3 (ipykernel)",
   "language": "python",
   "name": "python3"
  },
  "language_info": {
   "codemirror_mode": {
    "name": "ipython",
    "version": 3
   },
   "file_extension": ".py",
   "mimetype": "text/x-python",
   "name": "python",
   "nbconvert_exporter": "python",
   "pygments_lexer": "ipython3",
   "version": "3.10.12"
  }
 },
 "nbformat": 4,
 "nbformat_minor": 5
}