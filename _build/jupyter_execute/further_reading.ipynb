{
 "cells": [
  {
   "cell_type": "markdown",
   "id": "a173b48d",
   "metadata": {},
   "source": [
    "# Further Reading\n",
    "\n",
    "There is a lot of machine lerning content on the internet available. Here are some links and useful pages: \n",
    "\n",
    "## Statistical Learning Theory and Machine Learning \n",
    "- The Elements of Statistical Learning: Data Mining, Inference, and Prediction (by Trevor Hastie, Robert Tibshirani and Jerome Friedman): https://hastie.su.domains/ElemStatLearn/\n",
    "- Machine Learning (by Tom Mitchell): http://www.cs.cmu.edu/~tom/mlbook.html\n",
    "- Mathematics for Machine Learning (by Marc Peter Deisenroth, A. Aldo Faisal, and Cheng Soon Ong. Published by Cambridge University Press): https://mml-book.github.io\n",
    "- Machine Learning: The Basics (by Alexander Jung): https://arxiv.org/abs/1805.05052\n",
    "\n",
    "## Deep Learning\n",
    "- Deep Learning Book (Ian Goodfellow and Yoshua Bengio and Aaron Courville): https://www.deeplearningbook.org\n",
    "- Dive into Deep Learning: https://d2l.ai/index.html\n",
    "\n",
    "\n",
    "## Machine Learning and Data Science with Python\n",
    "- Python Data Science Handbook: https://jakevdp.github.io/PythonDataScienceHandbook/\n",
    "\n",
    "\n",
    "## More about Networks and Graphs\n",
    "- Networks, Crowds, and Markets: Reasoning About a Highly Connected World (by David Easley and Jon Kleinberg): https://www.cs.cornell.edu/home/kleinber/networks-book/\n",
    "- Deep Graph Library:  https://github.com/dmlc/dgl\n",
    "- Karateclub: https://karateclub.readthedocs.io/en/latest/index.html"
   ]
  },
  {
   "cell_type": "markdown",
   "id": "e8e7458d",
   "metadata": {},
   "source": []
  }
 ],
 "metadata": {
  "kernelspec": {
   "display_name": "Python 3 (ipykernel)",
   "language": "python",
   "name": "python3"
  },
  "language_info": {
   "codemirror_mode": {
    "name": "ipython",
    "version": 3
   },
   "file_extension": ".py",
   "mimetype": "text/x-python",
   "name": "python",
   "nbconvert_exporter": "python",
   "pygments_lexer": "ipython3",
   "version": "3.10.12"
  }
 },
 "nbformat": 4,
 "nbformat_minor": 5
}