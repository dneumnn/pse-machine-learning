{
 "cells": [
  {
   "cell_type": "markdown",
   "id": "603c3d9b",
   "metadata": {},
   "source": [
    "# Supervised Learning\n",
    "\n",
    "![Supervised Learning](./supervised_learning.png)"
   ]
  },
  {
   "cell_type": "markdown",
   "id": "0dc99277",
   "metadata": {},
   "source": [
    "## Regression\n",
    "\n",
    "**Problem:** Want to predict contiuous valued target function that fits the data well.\n",
    "\n",
    "**Data:** Do the data have linear or non-liear correlation?\n",
    "\n",
    "**Model:** Find a parameterized hypothesis function that could be learned.\n",
    "\n",
    "**Loss:** Use a loss function to decide whether learning was successful.\n",
    "\n",
    "### Linear and Non-Linear Regression\n",
    "\n",
    "Linear regression is a **linear** approach for modelling the relationship between a scalar response $y$ and one or more explanatory variables $X$:\n",
    "\n",
    "$$y_{i} = \\theta * X_{i} + e_{i}$$\n",
    "\n",
    "In Non-linar regression we want to fit our data (X,y) into a non-linear regression model, like:\n",
    "\n",
    "$$y_{i} = f(X_{i},\\theta) + e_{i}$$\n"
   ]
  },
  {
   "cell_type": "markdown",
   "id": "fd50989a",
   "metadata": {},
   "source": [
    "## Classification\n",
    "\n",
    "**Problem:** Want to predict a deiscrete valued target function that fits the data well.\n",
    "\n",
    "**Data:** Are the data linear separabel?\n",
    "\n",
    "**Model:** Find a parameterized hypothesis function that could be learned.\n",
    "\n",
    "**Loss:** Use a loss function to decide whether learning was successful."
   ]
  }
 ],
 "metadata": {
  "kernelspec": {
   "display_name": "Python 3 (ipykernel)",
   "language": "python",
   "name": "python3"
  },
  "language_info": {
   "codemirror_mode": {
    "name": "ipython",
    "version": 3
   },
   "file_extension": ".py",
   "mimetype": "text/x-python",
   "name": "python",
   "nbconvert_exporter": "python",
   "pygments_lexer": "ipython3",
   "version": "3.10.12"
  }
 },
 "nbformat": 4,
 "nbformat_minor": 5
}
